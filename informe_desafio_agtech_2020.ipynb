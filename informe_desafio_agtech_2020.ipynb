{
 "cells": [
  {
   "cell_type": "markdown",
   "metadata": {},
   "source": [
    "[<center>![Open In Colab](https://colab.research.google.com/assets/colab-badge.svg)</center>](https://colab.research.google.com/drive/1sUgL_vsOaE2ZltgDg0gcEK-LZU-oadVm?usp=sharing)"
   ]
  },
  {
   "cell_type": "markdown",
   "metadata": {},
   "source": [
    "[Meta: Data - Competencia en ciencia de Datos](https://metadata.fundacionsadosky.org.ar/competition/22/)\n",
    "\n",
    "# Clasificación de cultivos utilizando imágenes satelitales"
   ]
  },
  {
   "cell_type": "markdown",
   "metadata": {},
   "source": [
    "## Introducción\n",
    "\n",
    "Este notebook aborda el trabajo desarrollado en el desafío AgTech 2020 para categorizar cultivos en imágenes obtenidas de los satélites Landsat 8, Sentinel 1 y Sentinel 2 a través de la API Google Earth Engine. Describe las etapas seguidas y las decisiones que se tomaron hasta la construcción de un modelo de clasificación multiclase mediante un algoritmo de Gradient Boosting utilizando el framework Lightgbm."
   ]
  },
  {
   "cell_type": "markdown",
   "metadata": {
    "id": "q6_5QeN_gZh0"
   },
   "source": [
    "## 1. Setup\n",
    "### 1.1. Librerías"
   ]
  },
  {
   "cell_type": "code",
   "execution_count": 1,
   "metadata": {},
   "outputs": [],
   "source": [
    "import os\n",
    "import math\n",
    "import shapefile\n",
    "import folium\n",
    "import ee\n",
    "import pandas as pd\n",
    "import numpy as np\n",
    "import shap\n",
    "import lightgbm as lgb\n",
    "import joblib\n",
    "import seaborn as sns\n",
    "import matplotlib.pyplot as plt\n",
    "from sklearn.model_selection import train_test_split\n",
    "from sklearn.metrics import balanced_accuracy_score"
   ]
  },
  {
   "cell_type": "markdown",
   "metadata": {},
   "source": [
    "### 1.2. Directorios"
   ]
  },
  {
   "cell_type": "code",
   "execution_count": 2,
   "metadata": {},
   "outputs": [],
   "source": [
    "# Directorio raíz\n",
    "rdir = os.path.abspath(\"__file__\" + \"/../../\")\n",
    "\n",
    "# Subdirectorios\n",
    "DATA_RAW = os.path.join(rdir, \"data/\")\n",
    "MODEL_INPUT = os.path.join(rdir, \"data/\")\n",
    "MODEL_OUTPUT = os.path.join(rdir, \"data/output/\")\n",
    "SUBMIT = os.path.join(rdir, \"data/output/\")\n",
    "\n",
    "# Nombres de los archivos a cargar\n",
    "AOI = \"aoi/Gral Lopez.shp\"\n",
    "TRAIN = \"data_train.csv\"\n",
    "TEST = \"data_test.csv\"\n",
    "TEST_SOLUCION = \"data_test_solucion.csv\"\n",
    "ETIQUETAS = \"etiquetas.csv\""
   ]
  },
  {
   "cell_type": "markdown",
   "metadata": {},
   "source": [
    "### 1.3. Inicialización de Earth Engine "
   ]
  },
  {
   "cell_type": "code",
   "execution_count": 3,
   "metadata": {},
   "outputs": [],
   "source": [
    "# Autenticación\n",
    "# auth.authenticate_user()\n",
    "\n",
    "# Conexión\n",
    "ee.Initialize()"
   ]
  },
  {
   "cell_type": "markdown",
   "metadata": {},
   "source": [
    "## 2. Datos"
   ]
  },
  {
   "cell_type": "markdown",
   "metadata": {},
   "source": [
    "### 2.1. Área de interés\n",
    "Se visualiza en un mapa la superficie que contiene las observaciones de verdad de campo entregadas para entrenar y evaluar el modelo."
   ]
  },
  {
   "cell_type": "code",
   "execution_count": 4,
   "metadata": {},
   "outputs": [
    {
     "data": {
      "text/plain": [
       "[(-61.51664980800001, -33.407502609999995),\n",
       " (-61.47422924, -33.46268346900001),\n",
       " (-61.474185463000026, -33.46274042099998),\n",
       " (-61.46829425300001, -33.47037071699998),\n",
       " (-61.456758224, -33.46415670099998),\n",
       " (-61.440239899999995, -33.45525529399998),\n",
       " (-61.422240801999976, -33.44555151499998),\n",
       " (-61.416323250999994, -33.453152848),\n",
       " (-61.411494613, -33.45928174199997)]"
      ]
     },
     "execution_count": 4,
     "metadata": {},
     "output_type": "execute_result"
    }
   ],
   "source": [
    "# Se carga la geometría de la zona en estudio (General López)\n",
    "aoi_shp = shapefile.Reader((os.path.join(rdir, DATA_RAW, AOI)))\n",
    "\n",
    "# Se recuperan las coordenadas del polígono que forma la zona en estudio\n",
    "feature = aoi_shp.shapeRecords()[0]\n",
    "aoi_geometry = feature.shape.__geo_interface__\n",
    "\n",
    "aoi_geometry[\"coordinates\"][0][1:10]"
   ]
  },
  {
   "cell_type": "code",
   "execution_count": 5,
   "metadata": {},
   "outputs": [],
   "source": [
    "# Se establece una geometría Earth Engine\n",
    "ee_aoi_geometry = ee.Geometry.Polygon(aoi_geometry[\"coordinates\"])"
   ]
  },
  {
   "cell_type": "code",
   "execution_count": 6,
   "metadata": {
    "id": "4741Can8hG9x"
   },
   "outputs": [],
   "source": [
    "def Mapdisplay(center, dicc, Tiles=\"OpensTreetMap\", zoom_start=10):\n",
    "    \"\"\"\n",
    "    Retorna un objeto folium.Map para visualizar el mapa de una región definida con los parámetros \n",
    "    'center' y 'dicc'.\n",
    "\n",
    "    :param center: Centro del área del mapa a visualizar.\n",
    "    :param dicc: Geometría Earth Engine.\n",
    "    :param Tiles: Tipo de mosaico (Mapbox Bright, Mapbox Control Room, Stamen Terrain,\n",
    "     stamenwatercolor, cartodbpositron).\n",
    "    :param zoom_start: Nivel de zoom inicial para el mapa.\n",
    "\n",
    "    \"\"\"\n",
    "    mapViz = folium.Map(location=center, tiles=Tiles, zoom_start=zoom_start)\n",
    "\n",
    "    for k, v in dicc.items():\n",
    "        if ee.image.Image in [type(x) for x in v.values()]:\n",
    "            folium.TileLayer(\n",
    "                tiles=v[\"tile_fetcher\"].url_format,\n",
    "                attr=\"Google Earth Engine\",\n",
    "                overlay=True,\n",
    "                name=k,\n",
    "            ).add_to(mapViz)\n",
    "    else:\n",
    "        folium.GeoJson(data=v, name=k).add_to(mapViz)\n",
    "\n",
    "    mapViz.add_child(folium.LayerControl())\n",
    "\n",
    "    return mapViz"
   ]
  },
  {
   "cell_type": "code",
   "execution_count": 7,
   "metadata": {
    "colab": {
     "base_uri": "https://localhost:8080/",
     "height": 866
    },
    "id": "5dXR0HQbhVle",
    "outputId": "991bed94-4e8a-4e6c-ffd2-6f4ee752ff6d"
   },
   "outputs": [
    {
     "data": {
      "text/html": [
       "<div style=\"width:100%;\"><div style=\"position:relative;width:100%;height:0;padding-bottom:60%;\"><span style=\"color:#565656\">Make this Notebook Trusted to load map: File -> Trust Notebook</span><iframe src=\"about:blank\" style=\"position:absolute;width:100%;height:100%;left:0;top:0;border:none !important;\" data-html=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 onload=\"this.contentDocument.open();this.contentDocument.write(atob(this.getAttribute('data-html')));this.contentDocument.close();\" allowfullscreen webkitallowfullscreen mozallowfullscreen></iframe></div></div>"
      ],
      "text/plain": [
       "<folium.folium.Map at 0x182f95dd278>"
      ]
     },
     "execution_count": 7,
     "metadata": {},
     "output_type": "execute_result"
    }
   ],
   "source": [
    "# Centro del área de interés (General López)\n",
    "center = ee_aoi_geometry.centroid().getInfo()[\"coordinates\"]\n",
    "center.reverse()\n",
    "\n",
    "# Geometría de la zona\n",
    "dicc_aio = {\"General López\": ee_aoi_geometry.getInfo()}\n",
    "\n",
    "# Visualización en el mapa del área de interés\n",
    "Mapdisplay(center, dicc_aio, zoom_start=9)"
   ]
  },
  {
   "cell_type": "markdown",
   "metadata": {},
   "source": [
    "### 2.2. Datos de Trabajo\n",
    "Se cargan los datos de trabajo y se renombran los nombres de las columnas."
   ]
  },
  {
   "cell_type": "code",
   "execution_count": 8,
   "metadata": {
    "id": "0GGOG_5Pox7G"
   },
   "outputs": [
    {
     "name": "stdout",
     "output_type": "stream",
     "text": [
      "Número de registros para entrenar: 850\n",
      "Número de registros a predecir clase: 555\n"
     ]
    }
   ],
   "source": [
    "# Se cargan los datasets correspondientes\n",
    "df_train = pd.read_csv(os.path.join(DATA_RAW, TRAIN))\n",
    "df_test = pd.read_csv(os.path.join(DATA_RAW, TEST))\n",
    "df_etiquetas = pd.read_csv(os.path.join(DATA_RAW, ETIQUETAS))\n",
    "\n",
    "# Se pasan a minúscula todos los nombres de las columnas\n",
    "df_train.columns = [x.lower() for x in df_train.columns]\n",
    "df_test.columns = [x.lower() for x in df_test.columns]\n",
    "df_etiquetas.columns = [x.lower() for x in df_etiquetas.columns]\n",
    "\n",
    "# Se renombran 'Longitud' y 'Latitud'\n",
    "df_train.rename(columns={\"longitud\": \"longitude\", \"latitud\": \"latitude\"}, inplace=True)\n",
    "df_test.rename(columns={\"longitud\": \"longitude\", \"latitud\": \"latitude\"}, inplace=True)\n",
    "\n",
    "print(f\"Número de registros para entrenar: {df_train.shape[0]}\")\n",
    "print(f\"Número de registros a predecir clase: {df_test.shape[0]}\")"
   ]
  },
  {
   "cell_type": "code",
   "execution_count": 9,
   "metadata": {},
   "outputs": [
    {
     "data": {
      "text/plain": [
       "S      344\n",
       "M      210\n",
       "s       89\n",
       "N       82\n",
       "P       55\n",
       "X       34\n",
       "U       12\n",
       "B        6\n",
       "R        6\n",
       "m        4\n",
       "A        2\n",
       "aa       2\n",
       "T        2\n",
       "G        1\n",
       "S/M      1\n",
       "Name: cultivo, dtype: int64"
      ]
     },
     "execution_count": 9,
     "metadata": {},
     "output_type": "execute_result"
    }
   ],
   "source": [
    "# Cantidad de categorías disponibles por clase de cultivo (verdad de campo)\n",
    "df_train[\"cultivo\"].value_counts()"
   ]
  },
  {
   "cell_type": "markdown",
   "metadata": {},
   "source": [
    "Se aprecia una diferencia importante en el número de observaciones por categoría."
   ]
  },
  {
   "cell_type": "markdown",
   "metadata": {},
   "source": [
    "### 2.3. Tratamiento de datos\n",
    "En el punto anterior se observa un registro con la identificación 'S/M' el cual no pertenece a ninguna de las clases a predecir. En realidad, parece indicar que el cultivo corresponde a soja tipo 1 o maíz temprano. Dada la cantidad de registros con estas características se decide prescindir del mismo."
   ]
  },
  {
   "cell_type": "code",
   "execution_count": 10,
   "metadata": {},
   "outputs": [
    {
     "data": {
      "text/html": [
       "<div>\n",
       "<style scoped>\n",
       "    .dataframe tbody tr th:only-of-type {\n",
       "        vertical-align: middle;\n",
       "    }\n",
       "\n",
       "    .dataframe tbody tr th {\n",
       "        vertical-align: top;\n",
       "    }\n",
       "\n",
       "    .dataframe thead th {\n",
       "        text-align: right;\n",
       "    }\n",
       "</style>\n",
       "<table border=\"1\" class=\"dataframe\">\n",
       "  <thead>\n",
       "    <tr style=\"text-align: right;\">\n",
       "      <th></th>\n",
       "      <th>id</th>\n",
       "      <th>cultivo</th>\n",
       "      <th>longitude</th>\n",
       "      <th>latitude</th>\n",
       "      <th>elevacion</th>\n",
       "      <th>dataset</th>\n",
       "      <th>campania</th>\n",
       "      <th>globalid</th>\n",
       "    </tr>\n",
       "  </thead>\n",
       "  <tbody>\n",
       "    <tr>\n",
       "      <th>150</th>\n",
       "      <td>278</td>\n",
       "      <td>S/M</td>\n",
       "      <td>-62.032337</td>\n",
       "      <td>-33.572599</td>\n",
       "      <td>109.66362</td>\n",
       "      <td>BC</td>\n",
       "      <td>18/19</td>\n",
       "      <td>278</td>\n",
       "    </tr>\n",
       "  </tbody>\n",
       "</table>\n",
       "</div>"
      ],
      "text/plain": [
       "      id cultivo  longitude   latitude  elevacion dataset campania  globalid\n",
       "150  278     S/M -62.032337 -33.572599  109.66362      BC    18/19       278"
      ]
     },
     "execution_count": 10,
     "metadata": {},
     "output_type": "execute_result"
    }
   ],
   "source": [
    "df_train[df_train[\"cultivo\"] == \"S/M\"]"
   ]
  },
  {
   "cell_type": "code",
   "execution_count": 11,
   "metadata": {},
   "outputs": [],
   "source": [
    "# Se elimina el registro\n",
    "df_train = df_train[df_train[\"globalid\"] != 278]"
   ]
  },
  {
   "cell_type": "markdown",
   "metadata": {},
   "source": [
    "Se verifica que hay coordenadas duplicadas en la base de entrenamiento. Como criterio se adopta eliminar ambos registros."
   ]
  },
  {
   "cell_type": "code",
   "execution_count": 12,
   "metadata": {},
   "outputs": [
    {
     "data": {
      "text/html": [
       "<div>\n",
       "<style scoped>\n",
       "    .dataframe tbody tr th:only-of-type {\n",
       "        vertical-align: middle;\n",
       "    }\n",
       "\n",
       "    .dataframe tbody tr th {\n",
       "        vertical-align: top;\n",
       "    }\n",
       "\n",
       "    .dataframe thead th {\n",
       "        text-align: right;\n",
       "    }\n",
       "</style>\n",
       "<table border=\"1\" class=\"dataframe\">\n",
       "  <thead>\n",
       "    <tr style=\"text-align: right;\">\n",
       "      <th></th>\n",
       "      <th>longitude</th>\n",
       "      <th>latitude</th>\n",
       "    </tr>\n",
       "  </thead>\n",
       "  <tbody>\n",
       "    <tr>\n",
       "      <th>132</th>\n",
       "      <td>-62.010454</td>\n",
       "      <td>-33.783648</td>\n",
       "    </tr>\n",
       "  </tbody>\n",
       "</table>\n",
       "</div>"
      ],
      "text/plain": [
       "     longitude   latitude\n",
       "132 -62.010454 -33.783648"
      ]
     },
     "execution_count": 12,
     "metadata": {},
     "output_type": "execute_result"
    }
   ],
   "source": [
    "# Se evalúa si hay coordenadas duplicadas y se muestra el resultado\n",
    "df_train.loc[df_train[[\"longitude\", \"latitude\"]].duplicated(), [\"longitude\", \"latitude\"]]"
   ]
  },
  {
   "cell_type": "code",
   "execution_count": 13,
   "metadata": {},
   "outputs": [
    {
     "data": {
      "text/html": [
       "<div>\n",
       "<style scoped>\n",
       "    .dataframe tbody tr th:only-of-type {\n",
       "        vertical-align: middle;\n",
       "    }\n",
       "\n",
       "    .dataframe tbody tr th {\n",
       "        vertical-align: top;\n",
       "    }\n",
       "\n",
       "    .dataframe thead th {\n",
       "        text-align: right;\n",
       "    }\n",
       "</style>\n",
       "<table border=\"1\" class=\"dataframe\">\n",
       "  <thead>\n",
       "    <tr style=\"text-align: right;\">\n",
       "      <th></th>\n",
       "      <th>id</th>\n",
       "      <th>cultivo</th>\n",
       "      <th>longitude</th>\n",
       "      <th>latitude</th>\n",
       "      <th>elevacion</th>\n",
       "      <th>dataset</th>\n",
       "      <th>campania</th>\n",
       "      <th>globalid</th>\n",
       "    </tr>\n",
       "  </thead>\n",
       "  <tbody>\n",
       "    <tr>\n",
       "      <th>131</th>\n",
       "      <td>227</td>\n",
       "      <td>X</td>\n",
       "      <td>-62.010454</td>\n",
       "      <td>-33.783648</td>\n",
       "      <td>95.07975</td>\n",
       "      <td>BC</td>\n",
       "      <td>18/19</td>\n",
       "      <td>227</td>\n",
       "    </tr>\n",
       "    <tr>\n",
       "      <th>132</th>\n",
       "      <td>228</td>\n",
       "      <td>S</td>\n",
       "      <td>-62.010454</td>\n",
       "      <td>-33.783648</td>\n",
       "      <td>95.07975</td>\n",
       "      <td>BC</td>\n",
       "      <td>18/19</td>\n",
       "      <td>228</td>\n",
       "    </tr>\n",
       "  </tbody>\n",
       "</table>\n",
       "</div>"
      ],
      "text/plain": [
       "      id cultivo  longitude   latitude  elevacion dataset campania  globalid\n",
       "131  227       X -62.010454 -33.783648   95.07975      BC    18/19       227\n",
       "132  228       S -62.010454 -33.783648   95.07975      BC    18/19       228"
      ]
     },
     "execution_count": 13,
     "metadata": {},
     "output_type": "execute_result"
    }
   ],
   "source": [
    "# Se recuperan los registros repetidos\n",
    "df_train[df_train[\"longitude\"] == -62.010454]"
   ]
  },
  {
   "cell_type": "code",
   "execution_count": 14,
   "metadata": {},
   "outputs": [],
   "source": [
    "# Se eliminan del dataset ambos registros\n",
    "df_train = df_train[(df_train[\"globalid\"] != 228) & (df_train[\"globalid\"] != 227)]"
   ]
  },
  {
   "cell_type": "markdown",
   "metadata": {},
   "source": [
    "Se transforma la columna `cultivo` en un variable numérica."
   ]
  },
  {
   "cell_type": "code",
   "execution_count": 15,
   "metadata": {},
   "outputs": [],
   "source": [
    "# Diccionario con valores numéricos para cada cultivo\n",
    "cultivo_num = {\n",
    "    \"S\": 0,\n",
    "    \"M\": 1,\n",
    "    \"U\": 2,\n",
    "    \"B\": 3,\n",
    "    \"R\": 4,\n",
    "    \"s\": 5,\n",
    "    \"N\": 6,\n",
    "    \"m\": 7,\n",
    "    \"P\": 8,\n",
    "    \"A\": 9,\n",
    "    \"X\": 10,\n",
    "    \"T\": 11,\n",
    "    \"G\": 12,\n",
    "    \"aa\": 13,\n",
    "}\n",
    "\n",
    "# Remapeo de los id de los cultivos\n",
    "df_train = df_train.replace({\"cultivo\": cultivo_num})"
   ]
  },
  {
   "cell_type": "code",
   "execution_count": 16,
   "metadata": {},
   "outputs": [
    {
     "data": {
      "text/html": [
       "<div>\n",
       "<style scoped>\n",
       "    .dataframe tbody tr th:only-of-type {\n",
       "        vertical-align: middle;\n",
       "    }\n",
       "\n",
       "    .dataframe tbody tr th {\n",
       "        vertical-align: top;\n",
       "    }\n",
       "\n",
       "    .dataframe thead th {\n",
       "        text-align: right;\n",
       "    }\n",
       "</style>\n",
       "<table border=\"1\" class=\"dataframe\">\n",
       "  <thead>\n",
       "    <tr style=\"text-align: right;\">\n",
       "      <th></th>\n",
       "      <th>id</th>\n",
       "      <th>cultivo</th>\n",
       "      <th>longitude</th>\n",
       "      <th>latitude</th>\n",
       "      <th>elevacion</th>\n",
       "      <th>dataset</th>\n",
       "      <th>campania</th>\n",
       "      <th>globalid</th>\n",
       "    </tr>\n",
       "  </thead>\n",
       "  <tbody>\n",
       "    <tr>\n",
       "      <th>0</th>\n",
       "      <td>1</td>\n",
       "      <td>0</td>\n",
       "      <td>-62.144163</td>\n",
       "      <td>-33.800202</td>\n",
       "      <td>104.111862</td>\n",
       "      <td>BC</td>\n",
       "      <td>18/19</td>\n",
       "      <td>1</td>\n",
       "    </tr>\n",
       "    <tr>\n",
       "      <th>1</th>\n",
       "      <td>4</td>\n",
       "      <td>1</td>\n",
       "      <td>-62.155418</td>\n",
       "      <td>-33.801742</td>\n",
       "      <td>105.698082</td>\n",
       "      <td>BC</td>\n",
       "      <td>18/19</td>\n",
       "      <td>4</td>\n",
       "    </tr>\n",
       "    <tr>\n",
       "      <th>2</th>\n",
       "      <td>6</td>\n",
       "      <td>6</td>\n",
       "      <td>-62.163615</td>\n",
       "      <td>-33.808092</td>\n",
       "      <td>104.233162</td>\n",
       "      <td>BC</td>\n",
       "      <td>18/19</td>\n",
       "      <td>6</td>\n",
       "    </tr>\n",
       "    <tr>\n",
       "      <th>3</th>\n",
       "      <td>7</td>\n",
       "      <td>1</td>\n",
       "      <td>-62.164773</td>\n",
       "      <td>-33.813671</td>\n",
       "      <td>103.859932</td>\n",
       "      <td>BC</td>\n",
       "      <td>18/19</td>\n",
       "      <td>7</td>\n",
       "    </tr>\n",
       "    <tr>\n",
       "      <th>4</th>\n",
       "      <td>9</td>\n",
       "      <td>1</td>\n",
       "      <td>-62.097200</td>\n",
       "      <td>-33.778628</td>\n",
       "      <td>98.532104</td>\n",
       "      <td>BC</td>\n",
       "      <td>18/19</td>\n",
       "      <td>9</td>\n",
       "    </tr>\n",
       "  </tbody>\n",
       "</table>\n",
       "</div>"
      ],
      "text/plain": [
       "   id  cultivo  longitude   latitude   elevacion dataset campania  globalid\n",
       "0   1        0 -62.144163 -33.800202  104.111862      BC    18/19         1\n",
       "1   4        1 -62.155418 -33.801742  105.698082      BC    18/19         4\n",
       "2   6        6 -62.163615 -33.808092  104.233162      BC    18/19         6\n",
       "3   7        1 -62.164773 -33.813671  103.859932      BC    18/19         7\n",
       "4   9        1 -62.097200 -33.778628   98.532104      BC    18/19         9"
      ]
     },
     "execution_count": 16,
     "metadata": {},
     "output_type": "execute_result"
    }
   ],
   "source": [
    "df_train.head()"
   ]
  },
  {
   "cell_type": "markdown",
   "metadata": {},
   "source": [
    "### 2.4. Generación de nuevos datos\n",
    "\n",
    "En el dataset de entrenamiento hay 14 tipos de cultivos, el cual se encuentra desbalanceado ya que unas pocas clases representan la mayor parte del conjunto de datos. **Para complementar la información dada se generan nuevos 'puntos' vecinos de cultivo a partir de las coordenadas de los registros de las categorías minoritarias**.\n",
    "\n",
    "Por cada 'punto' elegido se crean 8 nuevos a 30 y 60 m (1 *arriba*, 1 *abajo*, 1 a la *izquierda*, 1 a la *derecha* y 4 en *diagonal*). Como criterio, el aumento de datos se aplica sobre los cultivos 'G', 'aa', 'T', 'A', 'm', 'R', 'B' y 'U'.\n",
    "\n",
    "**Este procedimiento podría generar un mal entrenamiento del modelo si éste interpreta que la clasificación de algunos puntos se define a partir de la cercanía entre ellos**, por este motivo más adelante se eliminan las variables `longitude`, `latitude` y `elevacion` para no sesgar las predicciones con la posición de las observaciones de verdad de campo en el área estudiada."
   ]
  },
  {
   "cell_type": "code",
   "execution_count": 17,
   "metadata": {
    "scrolled": true
   },
   "outputs": [
    {
     "data": {
      "text/html": [
       "<div>\n",
       "<style scoped>\n",
       "    .dataframe tbody tr th:only-of-type {\n",
       "        vertical-align: middle;\n",
       "    }\n",
       "\n",
       "    .dataframe tbody tr th {\n",
       "        vertical-align: top;\n",
       "    }\n",
       "\n",
       "    .dataframe thead th {\n",
       "        text-align: right;\n",
       "    }\n",
       "</style>\n",
       "<table border=\"1\" class=\"dataframe\">\n",
       "  <thead>\n",
       "    <tr style=\"text-align: right;\">\n",
       "      <th></th>\n",
       "      <th>id</th>\n",
       "      <th>cultivo</th>\n",
       "      <th>longitude</th>\n",
       "      <th>latitude</th>\n",
       "      <th>elevacion</th>\n",
       "      <th>dataset</th>\n",
       "      <th>campania</th>\n",
       "      <th>globalid</th>\n",
       "    </tr>\n",
       "  </thead>\n",
       "  <tbody>\n",
       "    <tr>\n",
       "      <th>12</th>\n",
       "      <td>28</td>\n",
       "      <td>9</td>\n",
       "      <td>-62.177278</td>\n",
       "      <td>-33.814441</td>\n",
       "      <td>103.561348</td>\n",
       "      <td>BC</td>\n",
       "      <td>18/19</td>\n",
       "      <td>28</td>\n",
       "    </tr>\n",
       "    <tr>\n",
       "      <th>60</th>\n",
       "      <td>109</td>\n",
       "      <td>4</td>\n",
       "      <td>-62.177417</td>\n",
       "      <td>-33.866643</td>\n",
       "      <td>111.688385</td>\n",
       "      <td>BC</td>\n",
       "      <td>18/19</td>\n",
       "      <td>109</td>\n",
       "    </tr>\n",
       "    <tr>\n",
       "      <th>114</th>\n",
       "      <td>201</td>\n",
       "      <td>13</td>\n",
       "      <td>-62.007558</td>\n",
       "      <td>-33.630192</td>\n",
       "      <td>119.367538</td>\n",
       "      <td>BC</td>\n",
       "      <td>18/19</td>\n",
       "      <td>201</td>\n",
       "    </tr>\n",
       "    <tr>\n",
       "      <th>116</th>\n",
       "      <td>203</td>\n",
       "      <td>13</td>\n",
       "      <td>-62.009457</td>\n",
       "      <td>-33.627223</td>\n",
       "      <td>121.615204</td>\n",
       "      <td>BC</td>\n",
       "      <td>18/19</td>\n",
       "      <td>203</td>\n",
       "    </tr>\n",
       "    <tr>\n",
       "      <th>133</th>\n",
       "      <td>233</td>\n",
       "      <td>4</td>\n",
       "      <td>-62.016011</td>\n",
       "      <td>-33.806956</td>\n",
       "      <td>103.878593</td>\n",
       "      <td>BC</td>\n",
       "      <td>18/19</td>\n",
       "      <td>233</td>\n",
       "    </tr>\n",
       "  </tbody>\n",
       "</table>\n",
       "</div>"
      ],
      "text/plain": [
       "      id  cultivo  longitude   latitude   elevacion dataset campania  globalid\n",
       "12    28        9 -62.177278 -33.814441  103.561348      BC    18/19        28\n",
       "60   109        4 -62.177417 -33.866643  111.688385      BC    18/19       109\n",
       "114  201       13 -62.007558 -33.630192  119.367538      BC    18/19       201\n",
       "116  203       13 -62.009457 -33.627223  121.615204      BC    18/19       203\n",
       "133  233        4 -62.016011 -33.806956  103.878593      BC    18/19       233"
      ]
     },
     "execution_count": 17,
     "metadata": {},
     "output_type": "execute_result"
    }
   ],
   "source": [
    "# Se seleccionan los puntos sobre los cuales se van a generar nuevos registros\n",
    "df_expand = df_train[\n",
    "    (df_train[\"cultivo\"] == 12)\n",
    "    | (df_train[\"cultivo\"] == 13)\n",
    "    | (df_train[\"cultivo\"] == 11)\n",
    "    | (df_train[\"cultivo\"] == 9)\n",
    "    | (df_train[\"cultivo\"] == 7)\n",
    "    | (df_train[\"cultivo\"] == 4)\n",
    "    | (df_train[\"cultivo\"] == 3)\n",
    "    | (df_train[\"cultivo\"] == 2)\n",
    "]\n",
    "df_expand.head()"
   ]
  },
  {
   "cell_type": "code",
   "execution_count": 18,
   "metadata": {},
   "outputs": [],
   "source": [
    "def delta_coord(df, dkm, r_earth):\n",
    "    \"\"\"\n",
    "    Retorna un dataframe con 8 puntos (definidos por las variables 'longitude' y 'latitude')\n",
    "    ubicados a una distancia dada en km ('dkm').\n",
    "\n",
    "    Cada nuevo punto mantiene la misma información (verdad de campo) del punto padre original.\n",
    "\n",
    "    :param df: Dataframe con los puntos padre a aumentar.\n",
    "    :param dkm: Distancia en km entre los nuevos puntos vecinos generados y el punto padre.\n",
    "    :param r_earth: Radio de la tierra en km.\n",
    "\n",
    "    \"\"\"\n",
    "\n",
    "    # Copia el registro (punto padre) 8 veces como dataframe\n",
    "    df_expand = df.append([df] * 7, ignore_index=True)\n",
    "\n",
    "    # Valores de longitud y latitud del punto padre\n",
    "    latitude = df[\"latitude\"].values\n",
    "    longitude = df[\"longitude\"].values\n",
    "\n",
    "    # Delta longitud y latitud (distancia del nuevo punto al padre)\n",
    "    dlat = (dkm / r_earth) * (180 / math.pi)\n",
    "    dlon = (dkm / r_earth) * (180 / math.pi) / math.cos(latitude * math.pi / 180)\n",
    "\n",
    "    # Longitud y latitud de cada nuevo punto\n",
    "    ## Punto 1\n",
    "    df_expand.iloc[0:1, 3] = latitude\n",
    "    df_expand.iloc[0:1, 2] = longitude + dlon\n",
    "    ## Punto 2\n",
    "    df_expand.iloc[1:2, 3] = latitude\n",
    "    df_expand.iloc[1:2, 2] = longitude - dlon\n",
    "    ## Punto 3\n",
    "    df_expand.iloc[2:3, 3] = latitude + dlat\n",
    "    df_expand.iloc[2:3, 2] = longitude\n",
    "    ## Punto 4\n",
    "    df_expand.iloc[3:4, 3] = latitude - dlat\n",
    "    df_expand.iloc[3:4, 2] = longitude\n",
    "    ## Punto 5\n",
    "    df_expand.iloc[4:5, 3] = latitude + dlat\n",
    "    df_expand.iloc[4:5, 2] = longitude + dlon\n",
    "    ## Punto 6\n",
    "    df_expand.iloc[5:6, 3] = latitude - dlat\n",
    "    df_expand.iloc[5:6, 2] = longitude + dlon\n",
    "    ## Punto 7\n",
    "    df_expand.iloc[6:7, 3] = latitude - dlat\n",
    "    df_expand.iloc[6:7, 2] = longitude - dlon\n",
    "    ## Punto 8\n",
    "    df_expand.iloc[7:8, 3] = latitude + dlat\n",
    "    df_expand.iloc[7:8, 2] = longitude - dlon\n",
    "\n",
    "    return df_expand"
   ]
  },
  {
   "cell_type": "code",
   "execution_count": 19,
   "metadata": {},
   "outputs": [
    {
     "data": {
      "text/html": [
       "<div>\n",
       "<style scoped>\n",
       "    .dataframe tbody tr th:only-of-type {\n",
       "        vertical-align: middle;\n",
       "    }\n",
       "\n",
       "    .dataframe tbody tr th {\n",
       "        vertical-align: top;\n",
       "    }\n",
       "\n",
       "    .dataframe thead th {\n",
       "        text-align: right;\n",
       "    }\n",
       "</style>\n",
       "<table border=\"1\" class=\"dataframe\">\n",
       "  <thead>\n",
       "    <tr style=\"text-align: right;\">\n",
       "      <th></th>\n",
       "      <th>id</th>\n",
       "      <th>cultivo</th>\n",
       "      <th>longitude</th>\n",
       "      <th>latitude</th>\n",
       "      <th>elevacion</th>\n",
       "      <th>dataset</th>\n",
       "      <th>campania</th>\n",
       "      <th>globalid</th>\n",
       "    </tr>\n",
       "  </thead>\n",
       "  <tbody>\n",
       "    <tr>\n",
       "      <th>0</th>\n",
       "      <td>28</td>\n",
       "      <td>9</td>\n",
       "      <td>-62.176954</td>\n",
       "      <td>-33.814441</td>\n",
       "      <td>103.561348</td>\n",
       "      <td>BC</td>\n",
       "      <td>18/19</td>\n",
       "      <td>28</td>\n",
       "    </tr>\n",
       "    <tr>\n",
       "      <th>1</th>\n",
       "      <td>28</td>\n",
       "      <td>9</td>\n",
       "      <td>-62.177603</td>\n",
       "      <td>-33.814441</td>\n",
       "      <td>103.561348</td>\n",
       "      <td>BC</td>\n",
       "      <td>18/19</td>\n",
       "      <td>28</td>\n",
       "    </tr>\n",
       "    <tr>\n",
       "      <th>2</th>\n",
       "      <td>28</td>\n",
       "      <td>9</td>\n",
       "      <td>-62.177278</td>\n",
       "      <td>-33.814172</td>\n",
       "      <td>103.561348</td>\n",
       "      <td>BC</td>\n",
       "      <td>18/19</td>\n",
       "      <td>28</td>\n",
       "    </tr>\n",
       "    <tr>\n",
       "      <th>3</th>\n",
       "      <td>28</td>\n",
       "      <td>9</td>\n",
       "      <td>-62.177278</td>\n",
       "      <td>-33.814711</td>\n",
       "      <td>103.561348</td>\n",
       "      <td>BC</td>\n",
       "      <td>18/19</td>\n",
       "      <td>28</td>\n",
       "    </tr>\n",
       "    <tr>\n",
       "      <th>4</th>\n",
       "      <td>28</td>\n",
       "      <td>9</td>\n",
       "      <td>-62.176954</td>\n",
       "      <td>-33.814172</td>\n",
       "      <td>103.561348</td>\n",
       "      <td>BC</td>\n",
       "      <td>18/19</td>\n",
       "      <td>28</td>\n",
       "    </tr>\n",
       "  </tbody>\n",
       "</table>\n",
       "</div>"
      ],
      "text/plain": [
       "   id  cultivo  longitude   latitude   elevacion dataset campania  globalid\n",
       "0  28        9 -62.176954 -33.814441  103.561348      BC    18/19        28\n",
       "1  28        9 -62.177603 -33.814441  103.561348      BC    18/19        28\n",
       "2  28        9 -62.177278 -33.814172  103.561348      BC    18/19        28\n",
       "3  28        9 -62.177278 -33.814711  103.561348      BC    18/19        28\n",
       "4  28        9 -62.176954 -33.814172  103.561348      BC    18/19        28"
      ]
     },
     "execution_count": 19,
     "metadata": {},
     "output_type": "execute_result"
    }
   ],
   "source": [
    "# Para cada registro dado (cultivo minoritario) se generan 8 nuevos puntos en un radio de 30 m \n",
    "# y se guardan en una lista\n",
    "list_new_coord_30 = [\n",
    "    delta_coord(df_expand.iloc[i : (i + 1), :], 0.03, 6378) for i in range(len(df_expand))\n",
    "]\n",
    "\n",
    "# Se generan 8 nuevos puntos a 60 m y se guardan en una lista\n",
    "list_new_coord_60 = [\n",
    "    delta_coord(df_expand.iloc[i : (i + 1), :], 0.06, 6378) for i in range(len(df_expand))\n",
    "]\n",
    "\n",
    "# Se concatenan los resultados de las listas para generar un dataframe con los nuevos datos\n",
    "df_new_coord_30 = pd.concat(list_new_coord_30, ignore_index=True)\n",
    "df_new_coord_60 = pd.concat(list_new_coord_60, ignore_index=True)\n",
    "\n",
    "df_new_coord_30.head()"
   ]
  },
  {
   "cell_type": "code",
   "execution_count": 20,
   "metadata": {},
   "outputs": [
    {
     "name": "stdout",
     "output_type": "stream",
     "text": [
      "Cantidad de puntos nuevos vecinos a 30 m: 280\n",
      "Cantidad de puntos nuevos vecinos a 60 m: 280\n"
     ]
    }
   ],
   "source": [
    "print(f\"Cantidad de puntos nuevos vecinos a 30 m: {df_new_coord_30.shape[0]}\")\n",
    "print(f\"Cantidad de puntos nuevos vecinos a 60 m: {df_new_coord_60.shape[0]}\")"
   ]
  },
  {
   "cell_type": "code",
   "execution_count": 21,
   "metadata": {},
   "outputs": [
    {
     "data": {
      "text/plain": [
       "1455"
      ]
     },
     "execution_count": 21,
     "metadata": {},
     "output_type": "execute_result"
    }
   ],
   "source": [
    "# Dato de inetrés\n",
    "df_train.globalid.max()"
   ]
  },
  {
   "cell_type": "markdown",
   "metadata": {},
   "source": [
    "Cada punto nuevo generado debe tener un identificador único, por eso se les asigna un `globalid` diferente."
   ]
  },
  {
   "cell_type": "code",
   "execution_count": 22,
   "metadata": {},
   "outputs": [
    {
     "name": "stdout",
     "output_type": "stream",
     "text": [
      "Cantidad de registros en el conjunto de entrenamiento: 1407\n"
     ]
    }
   ],
   "source": [
    "# Se cambia el 'globalid' de los puntos nuevos\n",
    "# Máximo 'globalid' existente 1455\n",
    "df_new_coord_30[\"globalid\"] = list(range(1456, len(df_new_coord_30) + 1456))\n",
    "df_new_coord_60[\"globalid\"] = list(range(1736, len(df_new_coord_60) + 1736))\n",
    "\n",
    "# Se agregan los nuevos puntos a la base de entrenamiento\n",
    "df_train = pd.concat([df_train, df_new_coord_30, df_new_coord_60])\n",
    "\n",
    "print(f\"Cantidad de registros en el conjunto de entrenamiento: {df_train.shape[0]}\")"
   ]
  },
  {
   "cell_type": "code",
   "execution_count": 23,
   "metadata": {},
   "outputs": [
    {
     "data": {
      "text/plain": [
       "0     343\n",
       "1     210\n",
       "2     204\n",
       "4     102\n",
       "3     102\n",
       "5      89\n",
       "6      82\n",
       "7      68\n",
       "8      55\n",
       "13     34\n",
       "11     34\n",
       "9      34\n",
       "10     33\n",
       "12     17\n",
       "Name: cultivo, dtype: int64"
      ]
     },
     "execution_count": 23,
     "metadata": {},
     "output_type": "execute_result"
    }
   ],
   "source": [
    "# Cantidad de registros por categoría de cultivo\n",
    "df_train.cultivo.value_counts()"
   ]
  },
  {
   "cell_type": "markdown",
   "metadata": {},
   "source": [
    "Se aprecia ahora que, por ejemplo, hay 16 nuevos registros con información del cultivo Girasol. **Algunas de las clases minoritarias pasan a tener más registros que otros cultivos a los que no se aplicó la aumentación de puntos**. Se acepta lo anterior y se sigue adelante.\n",
    "\n",
    "Se grafican los nuevos puntos generados para la categoría Girasol en un mapa con imágenes del satélite *Sentinel 2*."
   ]
  },
  {
   "cell_type": "code",
   "execution_count": 24,
   "metadata": {},
   "outputs": [],
   "source": [
    "def df2geojson(df):\n",
    "    \"\"\"\n",
    "    Retorna un objeto geojson generado a partir de un dataframe ('df').\n",
    "\n",
    "    :param df: Dataframe a convertir en formato geojson.\n",
    "\n",
    "    \"\"\"\n",
    "    # Se crea un objeto geojson vacío\n",
    "    geojson = {\"type\": \"FeatureCollection\", \"features\": []}\n",
    "\n",
    "    # Se itera por cada fila del dataframe para armar el diccionario\n",
    "    for _, row in df.iterrows():\n",
    "        feature = {\n",
    "            \"type\": \"Feature\",\n",
    "            \"geometry\": {\"type\": \"Point\", \"coordinates\": [row[\"longitude\"], row[\"latitude\"]]},\n",
    "            \"properties\": {\n",
    "                \"campania\": row[\"campania\"],\n",
    "                \"filter\": row[\"filter\"] if \"filter\" in df.columns else None,\n",
    "            },\n",
    "        }\n",
    "        geojson[\"features\"].append(feature)\n",
    "\n",
    "    return geojson"
   ]
  },
  {
   "cell_type": "code",
   "execution_count": 25,
   "metadata": {},
   "outputs": [
    {
     "data": {
      "text/html": [
       "<div style=\"width:100%;\"><div style=\"position:relative;width:100%;height:0;padding-bottom:60%;\"><span style=\"color:#565656\">Make this Notebook Trusted to load map: File -> Trust Notebook</span><iframe src=\"about:blank\" style=\"position:absolute;width:100%;height:100%;left:0;top:0;border:none !important;\" data-html=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 onload=\"this.contentDocument.open();this.contentDocument.write(atob(this.getAttribute('data-html')));this.contentDocument.close();\" allowfullscreen webkitallowfullscreen mozallowfullscreen></iframe></div></div>"
      ],
      "text/plain": [
       "<folium.folium.Map at 0x182f9557748>"
      ]
     },
     "execution_count": 25,
     "metadata": {},
     "output_type": "execute_result"
    }
   ],
   "source": [
    "# Se seleccionan los nuevos datos generados para el cultivo Girasol\n",
    "girasol_vecinos = df_train[(df_train[\"globalid\"] > 443) & (df_train[\"cultivo\"] == 12)]\n",
    "\n",
    "# Se selecciona el registro original de Girasol\n",
    "girasol_padre = df_train[df_train[\"globalid\"] == 443]\n",
    "\n",
    "# Se crea una colección Earth Engine\n",
    "ee_girasol_vecinos = ee.FeatureCollection(df2geojson(girasol_vecinos))\n",
    "ee_girasol_padre = ee.FeatureCollection(df2geojson(girasol_padre))\n",
    "\n",
    "# Se descargan imágenes de Sentinel 2 para visualizar\n",
    "s2 = (\n",
    "    ee.ImageCollection(\"COPERNICUS/S2_SR\")\n",
    "    .filterDate(\"2020-01-01\", \"2020-10-31\")\n",
    "    .median()\n",
    "    .clip(ee_aoi_geometry)\n",
    "    .multiply(0.0001)\n",
    ")\n",
    "\n",
    "# Se seleccionan las bandas de interés\n",
    "RGB_bands = [\"B4\", \"B3\", \"B2\"]\n",
    "s2_rgb = s2.select(RGB_bands)\n",
    "\n",
    "visParams_s2 = {\n",
    "    \"bands\": [\"B4\", \"B3\", \"B2\"],\n",
    "    \"min\": 0,\n",
    "    \"max\": 0.5,\n",
    "    \"gamma\": 1.4,\n",
    "}\n",
    "\n",
    "s2Mapid = s2.getMapId(visParams_s2)\n",
    "\n",
    "# Centro del área de ineterés\n",
    "center = ee_girasol_padre.geometry().centroid().getInfo()[\"coordinates\"]\n",
    "center.reverse()\n",
    "\n",
    "# 'Punto' Girasol padre en rojo y nuevos puntos vecinos en amarillo\n",
    "dicc = {\n",
    "    \"satelite\": s2Mapid,\n",
    "    \"pts_vecinos\": ee_girasol_vecinos.draw(**{\"color\": \"yellow\", \"strokeWidth\": 3}).getMapId(),\n",
    "    \"pts_padre\": ee_girasol_padre.draw(**{\"color\": \"red\", \"strokeWidth\": 3}).getMapId(),\n",
    "    \"GeneralLopez\": ee_aoi_geometry.getInfo(),\n",
    "}\n",
    "\n",
    "# Se genera la visualización del mapa\n",
    "Mapdisplay(center, dicc, zoom_start=16.5)"
   ]
  },
  {
   "cell_type": "markdown",
   "metadata": {},
   "source": [
    "Se observan los nuevos puntos vecinos generados en el mapa (color amarillo) a partir del único registro disponible del cultivo Girasol (color rojo). Parece que uno de los puntos se encuentra muy cerca de otro cultivo. **Efectivamente, algunos de los registros nuevos creados no representan el cultivo padre ya que 'caen' dentro de otro tipo de superficie**. De todas formas, se considera que el beneficio de aumentar los datos es mejor que no hacerlo.\n",
    "\n",
    "A continuación, se visualizan todos los puntos de train y test en el área de estudio (General López). Primero, se unen los registros en un solo conjunto de datos."
   ]
  },
  {
   "cell_type": "code",
   "execution_count": 26,
   "metadata": {},
   "outputs": [
    {
     "data": {
      "text/plain": [
       "(1962, 9)"
      ]
     },
     "execution_count": 26,
     "metadata": {},
     "output_type": "execute_result"
    }
   ],
   "source": [
    "# Se agrega un identificador a los datos de train y test\n",
    "df_train[\"filter\"] = 0\n",
    "df_test[\"filter\"] = 1\n",
    "\n",
    "# Se unen train y test\n",
    "dataset = pd.concat([df_train, df_test], axis=0)\n",
    "dataset.shape"
   ]
  },
  {
   "cell_type": "code",
   "execution_count": 27,
   "metadata": {},
   "outputs": [
    {
     "data": {
      "text/html": [
       "<div style=\"width:100%;\"><div style=\"position:relative;width:100%;height:0;padding-bottom:60%;\"><span style=\"color:#565656\">Make this Notebook Trusted to load map: File -> Trust Notebook</span><iframe src=\"about:blank\" style=\"position:absolute;width:100%;height:100%;left:0;top:0;border:none !important;\" data-html=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 onload=\"this.contentDocument.open();this.contentDocument.write(atob(this.getAttribute('data-html')));this.contentDocument.close();\" allowfullscreen webkitallowfullscreen mozallowfullscreen></iframe></div></div>"
      ],
      "text/plain": [
       "<folium.folium.Map at 0x182f966dbe0>"
      ]
     },
     "execution_count": 27,
     "metadata": {},
     "output_type": "execute_result"
    }
   ],
   "source": [
    "# Se crea una colección Earth Engine con todos los datos\n",
    "dataset_collection = ee.FeatureCollection(df2geojson(dataset))\n",
    "\n",
    "# Se diferencian los puntos de entrenamiento y test\n",
    "fe_train = dataset_collection.filter(ee.Filter.eq(\"filter\", 0))\n",
    "fe_test = dataset_collection.filter(ee.Filter.eq(\"filter\", 1))\n",
    "\n",
    "# Centro del área de interés\n",
    "center = dataset_collection.geometry().centroid().getInfo()[\"coordinates\"]\n",
    "center.reverse()\n",
    "\n",
    "# Propiedades y geometría de los puntos\n",
    "dicc = {\n",
    "    \"train\": fe_train.draw(**{\"color\": \"red\", \"strokeWidth\": 5}).getMapId(),\n",
    "    \"test\": fe_test.draw(**{\"color\": \"blue\", \"strokeWidth\": 5}).getMapId(),\n",
    "    \"GeneralLopez\": ee_aoi_geometry.getInfo(),\n",
    "}\n",
    "\n",
    "# Visualización del mapa\n",
    "Mapdisplay(center, dicc, zoom_start=9.5)"
   ]
  },
  {
   "cell_type": "markdown",
   "metadata": {},
   "source": [
    "En el mapa se muestran los puntos registrados de verdad de campo para el conjunto de entrenamiento (color rojo) y para el conjunto de testeo (color azul)."
   ]
  },
  {
   "cell_type": "markdown",
   "metadata": {},
   "source": [
    "## 3. Obtención de imágenes satelitales\n",
    "\n",
    "Se obtienen las imágenes satelitales a través del método `.getInfo()` de [Google Earth Engine](https://earthengine.google.com/). El objetivo es poder descargar todas las imágenes disponibles en cada satélite en el intervalo de tiempo indicado. Luego, en forma local se realizan todas las operaciones deseadas (reducción, ingeniería de características, etc.).\n",
    "\n",
    "En este trabajo se utilizan imágenes de los satélites *Landsat 8*, *Sentinel 1* y *Sentinel 2* con dos niveles de corrección:\n",
    "- USGS Landsat 8 Surface Reflectance Tier 1.\n",
    "- Sentinel-1 SAR GRD: C-band Synthetic Aperture Radar Ground Range Detected, log scaling.\n",
    "- Sentinel-2 MSI: MultiSpectral Instrument, Level-2A.\n",
    "- Sentinel-2 MSI: MultiSpectral Instrument, Level-1C.\n",
    "\n",
    "Todas las propiedades de las imágenes que se solicitan a *GEE* (tipo de satélite, escala de las imágenes, etc.) se ordenan en un único diccionario. "
   ]
  },
  {
   "cell_type": "code",
   "execution_count": 28,
   "metadata": {},
   "outputs": [],
   "source": [
    "# Diccionario con propiedades de cada satélite de interés\n",
    "satellite = {\n",
    "    \"l8\": {\n",
    "        \"img_collection\": \"LANDSAT/LC08/C01/T1_SR\",\n",
    "        \"scale\": 30,\n",
    "        \"bands\": [\"B1\", \"B3\", \"B4\", \"B5\", \"B7\", \"B11\", \"pixel_qa\"],\n",
    "        \"prop_cloud\": \"CLOUD_COVER\",\n",
    "        \"porc_cloud\": 30,\n",
    "        \"maskS2clouds\": {\"qa\": \"pixel_qa\", \"cloudsBit\": 5, \"cloudShadowBit\": 3},\n",
    "    },\n",
    "    \"s1\": {\n",
    "        \"img_collection\": \"COPERNICUS/S1_GRD\",\n",
    "        \"scale\": 10,\n",
    "        \"bands\": None,\n",
    "        \"prop_cloud\": None,\n",
    "        \"porc_cloud\": None,\n",
    "        \"maskS2clouds\": None,\n",
    "    },\n",
    "    \"s2-l1c\": {\n",
    "        \"img_collection\": \"COPERNICUS/S2\",\n",
    "        \"scale\": 10,\n",
    "        \"bands\": [\"B1\", \"B3\", \"B4\", \"B5\", \"B7\", \"B8\", \"B9\", \"B11\", \"B12\", \"QA60\"],\n",
    "        \"prop_cloud\": \"CLOUDY_PIXEL_PERCENTAGE\",\n",
    "        \"porc_cloud\": 10,\n",
    "        \"maskS2clouds\": {\"qa\": \"QA60\", \"cloudsBit\": 10, \"cloudCirrusBit\": 11},\n",
    "    },\n",
    "    \"s2-l2a\": {\n",
    "        \"img_collection\": \"COPERNICUS/S2_SR\",\n",
    "        \"scale\": 10,\n",
    "        \"bands\": [\"B1\", \"B3\", \"B4\", \"B5\", \"B7\", \"B8\", \"B9\", \"B11\", \"B12\", \"QA60\"],\n",
    "        \"prop_cloud\": \"CLOUDY_PIXEL_PERCENTAGE\",\n",
    "        \"porc_cloud\": 10,\n",
    "        \"maskS2clouds\": {\"qa\": \"QA60\", \"cloudsBit\": 10, \"cloudCirrusBit\": 11},\n",
    "    },\n",
    "}"
   ]
  },
  {
   "cell_type": "markdown",
   "metadata": {},
   "source": [
    "**Se crea una clase que realiza las solicitudes a la plataforma de Google y convierte los datos descargados en un dataframe de [Pandas](https://pandas.pydata.org/), el cual se adhiere a los conjuntos de entrenamiento y testeo (**`dataset`**) con información de la verdad de campo**.\n",
    "\n",
    "Para no exceder el límite permitido de consulta de *GEE* algunas solicitudes se dividen en sub-intervalos de tiempo."
   ]
  },
  {
   "cell_type": "code",
   "execution_count": 29,
   "metadata": {},
   "outputs": [],
   "source": [
    "class GetDfImages:\n",
    "\n",
    "    \"\"\"\n",
    "    Retorna un dataframe con datos de imágenes satelitales descargados desde Earth Engine.\n",
    "    La información descargada se agrega al dataset que contiene los datos de verdad de campo.\n",
    "    Las imágenes con nubes devuelven valores nulos aplicando funciones de enmascaramiento.\n",
    "    \"\"\"\n",
    "\n",
    "    def __init__(\n",
    "        self, df=None, start=None, end=None, collection=None, campania_col=None, campania_date=None\n",
    "    ):\n",
    "        \"\"\"\n",
    "        Parámetros.\n",
    "\n",
    "        :param df: Dataframe con datos de verdad de campo.\n",
    "        :param start: Fecha de inicio a partir de la que se descargan imágenes.\n",
    "        :param end: Última fecha de descarga de imágenes.\n",
    "        :param collection: Objeto FeatureCollection de Earth Engine que define las imágenes a \n",
    "         descargar.\n",
    "        :param campania_col: Nombre de la columna que identifica la campaña de interés.\n",
    "        :param campania_date: Dato con referencia a la fecha de campaña.\n",
    "\n",
    "        \"\"\"\n",
    "\n",
    "        self.df = df\n",
    "        self.start = start\n",
    "        self.end = end\n",
    "        self.collection = collection\n",
    "        self.campania_col = campania_col\n",
    "        self.campania_date = campania_date\n",
    "\n",
    "    def __maskS2clouds(self, image, prop_mask):\n",
    "\n",
    "        \"\"\"\n",
    "        Función para enmascarar nubes usando las bandas de control de calidad Sentinel-2 o \n",
    "        Landsat-8.\n",
    "\n",
    "        :param image: Imagen a enmascarar.\n",
    "        :param prop_mask: Propiedad de imagen que se utiliza para enmascarar.\n",
    "\n",
    "        \"\"\"\n",
    "\n",
    "        # Banda QA\n",
    "        qa = image.select(prop_mask[\"qa\"])\n",
    "\n",
    "        # Bits de nubes\n",
    "        cloudsBitMask = 1 << prop_mask[\"cloudsBit\"]\n",
    "\n",
    "        # Enmascaramiento\n",
    "        mask = qa.bitwiseAnd(cloudsBitMask).eq(0)\n",
    "\n",
    "        if \"cloudShadowBit\" in prop_mask.keys():\n",
    "            # Landsat 8 - Bitmask para pixel_qa \n",
    "            cloudShadowBitMask = 1 << prop_mask[\"cloudShadowBit\"]\n",
    "            # Ambos indicadores deben ponerse a cero, lo que indica condiciones claras.\n",
    "            mask = mask.bitwiseAnd(cloudShadowBitMask).eq(0)\n",
    "\n",
    "        else:\n",
    "            # Sentinel 2 - Bitmask para QA60\n",
    "            cloudCirrusBitMask = 1 << prop_mask[\"cloudCirrusBit\"]\n",
    "            # Ambos indicadores deben ponerse a cero, lo que indica condiciones claras.\n",
    "            mask = mask.bitwiseAnd(cloudCirrusBitMask).eq(0)\n",
    "\n",
    "        return image.updateMask(mask)\n",
    "\n",
    "    def __get_data(self, images, scale=30):\n",
    "\n",
    "        \"\"\"\n",
    "        Descarga desde Earth Engine los datos de las imágenes requeridos.\n",
    "\n",
    "        :param images: Objeto ImageCollection GEE.\n",
    "        :param scale: Escala del pixel a descargar.\n",
    "\n",
    "        \"\"\"\n",
    "        # Si se define una campaña se recuperan sólo los datos para la misma\n",
    "        if self.campania_col:\n",
    "            return images.getRegion(\n",
    "                self.collection.filter(ee.Filter.eq(self.campania_col, self.campania_date)),\n",
    "                scale=scale,\n",
    "            ).getInfo()\n",
    "\n",
    "        # Si no se especifica una campaña se descargan todos los datos de la colección\n",
    "        else:\n",
    "            return images.getRegion(self.collection, scale=scale).getInfo()\n",
    "\n",
    "    def __to_df(self, images_data):\n",
    "\n",
    "        \"\"\"\n",
    "        Convierte los datos descargados en un dataframe y los agrega la base de verdad de campo.\n",
    "\n",
    "        Hay una leve diferencia entre las coordenadas entregadas para descargar las imágenes y las \n",
    "        devueltas por Engine Earth en sus metadatos. Para poder vincular la información solicitada \n",
    "        (en formato dataframe) con el conjunto de verdad de campo simplemente se ordenan las filas \n",
    "        de ambos datasets por sus coordenadas y se unen en dicho orden.\n",
    "\n",
    "        :param images_data: Información descargada de las imágenes.\n",
    "\n",
    "        \"\"\"\n",
    "\n",
    "        # Se convierten los datos descargados en un dataframe\n",
    "        df_data = pd.DataFrame(images_data[1:])\n",
    "        df_data.columns = images_data[0]\n",
    "\n",
    "        # Se elimina lo que no se necesita\n",
    "        df_data = df_data.drop([\"id\"], axis=1)\n",
    "\n",
    "        # Se recuperan las coordenadas devueltas por GEE en los metadatos\n",
    "        # Estas coordenadas difieren levemente de las coordenadas de verdad de campo\n",
    "        coord = df_data[[\"longitude\", \"latitude\"]].drop_duplicates()\n",
    "        coord = coord.sort_values([\"longitude\", \"latitude\"])\n",
    "\n",
    "        # Es importante que el conjunto de verdad de campo tenga las columnas con los\n",
    "        # nombres 'longitude' y 'latitude' sino se genera un error\n",
    "        try:\n",
    "            # Cuando se trabaja con una campaña específica se filtran los datos\n",
    "            if self.campania_col:\n",
    "                df_verdad_campo = self.df[self.df[self.campania_col] == self.campania_date]\n",
    "            # O bien se usa todo el conjunto de datos\n",
    "            else:\n",
    "                df_verdad_campo = self.df\n",
    "\n",
    "            # Se ordena el dataset de verdad de campo por 'longitude' y 'latitude'\n",
    "            df_verdad_campo = df_verdad_campo.sort_values([\"longitude\", \"latitude\"])\n",
    "            df_verdad_campo = df_verdad_campo.drop([\"longitude\", \"latitude\"], axis=1)\n",
    "\n",
    "            # Se vinculan los datos de verdad de campo con las coordenadas devueltas por GEE\n",
    "            df_c = pd.concat(\n",
    "                [coord.reset_index(drop=True), df_verdad_campo.reset_index(drop=True)], axis=1\n",
    "            )\n",
    "\n",
    "        except:\n",
    "            print(\"Nombre de columna inválido\")\n",
    "\n",
    "        # Join de los datos descargados de las imágenes con el dateset de verdad de campo\n",
    "        # mediante las variables 'longitude' y 'latitude' (coordenadas devueltas por GEE)\n",
    "        df_data = pd.merge(df_data, df_c, on=[\"longitude\", \"latitude\"])\n",
    "\n",
    "        return df_data\n",
    "\n",
    "    def get_satellite_data(self, satellite):\n",
    "\n",
    "        \"\"\"\n",
    "        Retorna un Pandas dataframe con los datos de verdad de campo y las bandas de las imágenes \n",
    "        descargadas.\n",
    "\n",
    "        :param satellite: Satélite usado para descargar las imágenes desde Earth Engine.\n",
    "\n",
    "        \"\"\"\n",
    "\n",
    "        # Características y propiedades de las imágenes solicitadas\n",
    "        img_collection = satellite[\"img_collection\"]\n",
    "        scale = satellite[\"scale\"]\n",
    "        bands = satellite[\"bands\"]\n",
    "        prop_cloud = satellite[\"prop_cloud\"]\n",
    "        porc_cloud = satellite[\"porc_cloud\"]\n",
    "        prop_mask = satellite[\"maskS2clouds\"]\n",
    "\n",
    "        # Objeto Earth Engine con información de la colección de imágenes\n",
    "        images = (\n",
    "            ee.ImageCollection(img_collection)\n",
    "            .filterBounds(self.collection)\n",
    "            .filterDate(self.start, self.end)\n",
    "        )\n",
    "\n",
    "        # Si se especifican las bandas a descargar\n",
    "        if bands:\n",
    "            images = images.select(bands)\n",
    "\n",
    "        # Se enmascaran las imágenes con nubes\n",
    "        if prop_cloud:\n",
    "            images = images.filter(ee.Filter.lt(prop_cloud, porc_cloud))\n",
    "            images = images.map(lambda image: self.__maskS2clouds(image, prop_mask))\n",
    "\n",
    "        # Se recupera desde Earth Engine la información requerida\n",
    "        get_images_data = self.__get_data(images=images, scale=scale)\n",
    "\n",
    "        # Se transforma en dataframe y se agrega a la verdad de campo\n",
    "        df_data = self.__to_df(images_data=get_images_data)\n",
    "\n",
    "        return df_data"
   ]
  },
  {
   "cell_type": "markdown",
   "metadata": {},
   "source": [
    "Se descargan las imágenes de las campañas estableciendo los siguientes períodos:\n",
    "\n",
    "- 18/19: septiembre 2018 a agosto 2019 \n",
    "- 19/20: septiembre 2019 a agosto 2020\n",
    "\n",
    "**Por el momento se adopta septiembre como fecha general de referencia de inicio para la siembra de los cultivos de cada campaña y no se hace ninguna inferencia respecto al momento de cosecha, valores de los indicadores ambientales, etc**.\n",
    "\n",
    "Las imágenes de los satélites se descargan separadas por campaña. Debido a que *S2* aporta más información las consultas a *GEE* para la campaña 19/20 se dividen en subintervalos de tiempo con el fin de no exceder los límites establecidos en la plataforma. Otra alternativa, se puede armar una configuración unificada de ventanas de tiempo entre el período 09/18-08/20 y descargar todas las campañas juntas para cada satélite."
   ]
  },
  {
   "cell_type": "code",
   "execution_count": 30,
   "metadata": {},
   "outputs": [],
   "source": [
    "# Objeto para compaña 18/19\n",
    "campania_1819 = GetDfImages(\n",
    "    df=dataset,\n",
    "    start=\"2018-09-01\",\n",
    "    end=\"2019-08-31\",\n",
    "    collection=dataset_collection,\n",
    "    campania_col=\"campania\",\n",
    "    campania_date=\"18/19\",\n",
    ")\n",
    "\n",
    "# Objeto para campaña 19/20\n",
    "campania_1920 = GetDfImages(\n",
    "    df=dataset,\n",
    "    start=\"2019-09-01\",\n",
    "    end=\"2020-08-31\",\n",
    "    collection=dataset_collection,\n",
    "    campania_col=\"campania\",\n",
    "    campania_date=\"19/20\",\n",
    ")\n",
    "\n",
    "# Objeto para campaña 19/20 sin ventanas de tiempo definida\n",
    "campania_1920_na = GetDfImages(\n",
    "    df=dataset,\n",
    "    start=None,\n",
    "    end=None,\n",
    "    collection=dataset_collection,\n",
    "    campania_col=\"campania\",\n",
    "    campania_date=\"19/20\",\n",
    ")"
   ]
  },
  {
   "cell_type": "code",
   "execution_count": 31,
   "metadata": {},
   "outputs": [],
   "source": [
    "def get_df_images_by_interval(campania, start, end, satelite):\n",
    "\n",
    "    \"\"\"\n",
    "    Retorna un Pandas dataframe con los datos de verdad de campo y las bandas de las imágenes \n",
    "    descargadas en un intervalo de tiempo definido.\n",
    "\n",
    "    :param campania: Objeto (instancia) con la campaña solicitada.\n",
    "    :param start: Fecha de inicio de descarga de imágenes.\n",
    "    :param end: Fecha última de descarga de imágenes.\n",
    "    :param satelite: Satélite usado para descargar las imágenes desde Earth Engine.\n",
    "\n",
    "    \"\"\"\n",
    "\n",
    "    campania.start = start\n",
    "    campania.end = end\n",
    "\n",
    "    df_tmp = campania.get_satellite_data(satelite)\n",
    "\n",
    "    return df_tmp"
   ]
  },
  {
   "cell_type": "markdown",
   "metadata": {},
   "source": [
    "Se comienzan a descargar las imágenes satelitales."
   ]
  },
  {
   "cell_type": "code",
   "execution_count": 32,
   "metadata": {
    "scrolled": true
   },
   "outputs": [
    {
     "name": "stdout",
     "output_type": "stream",
     "text": [
      "Completo Satélite L8 - Campaña 18-19 ...\n",
      "Completo Satélite L8 - Campaña 19-20 ...\n",
      "Completo Satélite S1 - Campaña 18-19 ...\n",
      "Completo Satélite S1 - Campaña 19-20 ...\n",
      "Completo Satélite S2-l21C - Campaña 18-19 ...\n",
      "Completo Satélite S2-l21C - Campaña 19-20 ...\n",
      "Completo Satélite S2-l21A - Campaña 18-19 ...\n",
      "Completo Satélite S2-l21A - Campaña 19-20\n",
      "Wall time: 3min 54s\n"
     ]
    }
   ],
   "source": [
    "%%time\n",
    "\n",
    "# Satélite Lansdat l8\n",
    "## Campaña 18/19\n",
    "df_l8_1819 = campania_1819.get_satellite_data(satellite[\"l8\"])\n",
    "print('Completo Satélite L8 - Campaña 18-19 ...')\n",
    "\n",
    "## Campaña 19/20\n",
    "df_l8_1920 = campania_1920.get_satellite_data(satellite[\"l8\"])\n",
    "print('Completo Satélite L8 - Campaña 19-20 ...')\n",
    "\n",
    "# Satélite Lansdat s1\n",
    "## Campaña 18/19\n",
    "df_s1_1819 = campania_1819.get_satellite_data(satellite[\"s1\"])\n",
    "print('Completo Satélite S1 - Campaña 18-19 ...')\n",
    "\n",
    "## Campaña 19/20\n",
    "df_s1_1920 = campania_1920.get_satellite_data(satellite[\"s1\"])\n",
    "print('Completo Satélite S1 - Campaña 19-20 ...')\n",
    "\n",
    "# Intervalos de tiempo de descarga\n",
    "## El objetivo es obtener los datos desde 2019-09-01 a 2020-08-31\n",
    "## Para no exceder el límite de consulta permitido en GEE se discretiza en sub-intervalos\n",
    "time_intervals = {\n",
    "    \"t1\": [\"2019-09-01\", \"2019-11-30\"],\n",
    "    \"t2\": [\"2019-12-01\", \"2020-02-29\"],\n",
    "    \"t3\": [\"2020-03-01\", \"2020-05-30\"],\n",
    "    \"t4\": [\"2020-06-01\", \"2020-08-31\"],\n",
    "}\n",
    "\n",
    "# Satélite Lansdat s2-l1C\n",
    "## Campaña 18/19\n",
    "df_s2l1c_1819 = campania_1819.get_satellite_data(satellite[\"s2-l1c\"])\n",
    "print('Completo Satélite S2-l21C - Campaña 18-19 ...')\n",
    "\n",
    "## Campaña 19/20\n",
    "### Se descarga cada intervalo en una lista\n",
    "lst_df_s2l1c_1920 = [\n",
    "    get_df_images_by_interval(campania_1920_na, t[1][0], t[1][1], satellite[\"s2-l1c\"])\n",
    "    for t in time_intervals.items()\n",
    "]\n",
    "\n",
    "### Se concatena la lista en un df\n",
    "df_s2l1c_1920 = pd.concat(lst_df_s2l1c_1920, ignore_index=True)\n",
    "print('Completo Satélite S2-l21C - Campaña 19-20 ...')\n",
    "\n",
    "# Satélite Lansdat s2-l2A\n",
    "## Campaña 18/19\n",
    "df_s2l2a_1819 = campania_1819.get_satellite_data(satellite[\"s2-l2a\"])\n",
    "print('Completo Satélite S2-l21A - Campaña 18-19 ...')\n",
    "\n",
    "## Campaña 19/20\n",
    "lst_df_s2l2a_1920 = [\n",
    "    get_df_images_by_interval(campania_1920_na, t[1][0], t[1][1], satellite[\"s2-l2a\"])\n",
    "    for t in time_intervals.items()\n",
    "]\n",
    "\n",
    "### Se concatena la lista en un df\n",
    "df_s2l2a_1920 = pd.concat(lst_df_s2l2a_1920, ignore_index=True)\n",
    "print('Completo Satélite S2-l21A - Campaña 19-20')"
   ]
  },
  {
   "cell_type": "code",
   "execution_count": 33,
   "metadata": {},
   "outputs": [
    {
     "data": {
      "text/html": [
       "<div>\n",
       "<style scoped>\n",
       "    .dataframe tbody tr th:only-of-type {\n",
       "        vertical-align: middle;\n",
       "    }\n",
       "\n",
       "    .dataframe tbody tr th {\n",
       "        vertical-align: top;\n",
       "    }\n",
       "\n",
       "    .dataframe thead th {\n",
       "        text-align: right;\n",
       "    }\n",
       "</style>\n",
       "<table border=\"1\" class=\"dataframe\">\n",
       "  <thead>\n",
       "    <tr style=\"text-align: right;\">\n",
       "      <th></th>\n",
       "      <th>longitude</th>\n",
       "      <th>latitude</th>\n",
       "      <th>time</th>\n",
       "      <th>VV</th>\n",
       "      <th>VH</th>\n",
       "      <th>angle</th>\n",
       "      <th>id</th>\n",
       "      <th>cultivo</th>\n",
       "      <th>elevacion</th>\n",
       "      <th>dataset</th>\n",
       "      <th>campania</th>\n",
       "      <th>globalid</th>\n",
       "      <th>filter</th>\n",
       "    </tr>\n",
       "  </thead>\n",
       "  <tbody>\n",
       "    <tr>\n",
       "      <th>0</th>\n",
       "      <td>-61.384713</td>\n",
       "      <td>-33.637551</td>\n",
       "      <td>1536225734000</td>\n",
       "      <td>-16.891659</td>\n",
       "      <td>-24.834885</td>\n",
       "      <td>37.794636</td>\n",
       "      <td>486</td>\n",
       "      <td>NaN</td>\n",
       "      <td>87.885788</td>\n",
       "      <td>BC</td>\n",
       "      <td>18/19</td>\n",
       "      <td>486</td>\n",
       "      <td>1</td>\n",
       "    </tr>\n",
       "    <tr>\n",
       "      <th>1</th>\n",
       "      <td>-61.384713</td>\n",
       "      <td>-33.637551</td>\n",
       "      <td>1537262535000</td>\n",
       "      <td>-16.795192</td>\n",
       "      <td>-22.706080</td>\n",
       "      <td>37.792187</td>\n",
       "      <td>486</td>\n",
       "      <td>NaN</td>\n",
       "      <td>87.885788</td>\n",
       "      <td>BC</td>\n",
       "      <td>18/19</td>\n",
       "      <td>486</td>\n",
       "      <td>1</td>\n",
       "    </tr>\n",
       "    <tr>\n",
       "      <th>2</th>\n",
       "      <td>-61.384713</td>\n",
       "      <td>-33.637551</td>\n",
       "      <td>1538299335000</td>\n",
       "      <td>-15.746004</td>\n",
       "      <td>-21.976511</td>\n",
       "      <td>37.792393</td>\n",
       "      <td>486</td>\n",
       "      <td>NaN</td>\n",
       "      <td>87.885788</td>\n",
       "      <td>BC</td>\n",
       "      <td>18/19</td>\n",
       "      <td>486</td>\n",
       "      <td>1</td>\n",
       "    </tr>\n",
       "    <tr>\n",
       "      <th>3</th>\n",
       "      <td>-61.384713</td>\n",
       "      <td>-33.637551</td>\n",
       "      <td>1539336135000</td>\n",
       "      <td>-16.216816</td>\n",
       "      <td>-20.911749</td>\n",
       "      <td>37.792076</td>\n",
       "      <td>486</td>\n",
       "      <td>NaN</td>\n",
       "      <td>87.885788</td>\n",
       "      <td>BC</td>\n",
       "      <td>18/19</td>\n",
       "      <td>486</td>\n",
       "      <td>1</td>\n",
       "    </tr>\n",
       "    <tr>\n",
       "      <th>4</th>\n",
       "      <td>-61.384713</td>\n",
       "      <td>-33.637551</td>\n",
       "      <td>1540372935000</td>\n",
       "      <td>-9.551963</td>\n",
       "      <td>-21.142338</td>\n",
       "      <td>37.796970</td>\n",
       "      <td>486</td>\n",
       "      <td>NaN</td>\n",
       "      <td>87.885788</td>\n",
       "      <td>BC</td>\n",
       "      <td>18/19</td>\n",
       "      <td>486</td>\n",
       "      <td>1</td>\n",
       "    </tr>\n",
       "  </tbody>\n",
       "</table>\n",
       "</div>"
      ],
      "text/plain": [
       "   longitude   latitude           time         VV         VH      angle   id  \\\n",
       "0 -61.384713 -33.637551  1536225734000 -16.891659 -24.834885  37.794636  486   \n",
       "1 -61.384713 -33.637551  1537262535000 -16.795192 -22.706080  37.792187  486   \n",
       "2 -61.384713 -33.637551  1538299335000 -15.746004 -21.976511  37.792393  486   \n",
       "3 -61.384713 -33.637551  1539336135000 -16.216816 -20.911749  37.792076  486   \n",
       "4 -61.384713 -33.637551  1540372935000  -9.551963 -21.142338  37.796970  486   \n",
       "\n",
       "   cultivo  elevacion dataset campania  globalid  filter  \n",
       "0      NaN  87.885788      BC    18/19       486       1  \n",
       "1      NaN  87.885788      BC    18/19       486       1  \n",
       "2      NaN  87.885788      BC    18/19       486       1  \n",
       "3      NaN  87.885788      BC    18/19       486       1  \n",
       "4      NaN  87.885788      BC    18/19       486       1  "
      ]
     },
     "execution_count": 33,
     "metadata": {},
     "output_type": "execute_result"
    }
   ],
   "source": [
    "#  Vista dataframe con datos Sentinel 1\n",
    "df_s1_1819.head()"
   ]
  },
  {
   "cell_type": "code",
   "execution_count": 34,
   "metadata": {},
   "outputs": [
    {
     "data": {
      "text/html": [
       "<div>\n",
       "<style scoped>\n",
       "    .dataframe tbody tr th:only-of-type {\n",
       "        vertical-align: middle;\n",
       "    }\n",
       "\n",
       "    .dataframe tbody tr th {\n",
       "        vertical-align: top;\n",
       "    }\n",
       "\n",
       "    .dataframe thead th {\n",
       "        text-align: right;\n",
       "    }\n",
       "</style>\n",
       "<table border=\"1\" class=\"dataframe\">\n",
       "  <thead>\n",
       "    <tr style=\"text-align: right;\">\n",
       "      <th></th>\n",
       "      <th>longitude</th>\n",
       "      <th>latitude</th>\n",
       "      <th>time</th>\n",
       "      <th>B1</th>\n",
       "      <th>B3</th>\n",
       "      <th>B4</th>\n",
       "      <th>B5</th>\n",
       "      <th>B7</th>\n",
       "      <th>B8</th>\n",
       "      <th>B9</th>\n",
       "      <th>B11</th>\n",
       "      <th>B12</th>\n",
       "      <th>QA60</th>\n",
       "      <th>id</th>\n",
       "      <th>cultivo</th>\n",
       "    </tr>\n",
       "  </thead>\n",
       "  <tbody>\n",
       "    <tr>\n",
       "      <th>0</th>\n",
       "      <td>-62.68736</td>\n",
       "      <td>-34.272929</td>\n",
       "      <td>1567606328611</td>\n",
       "      <td>560.0</td>\n",
       "      <td>975.0</td>\n",
       "      <td>1382.0</td>\n",
       "      <td>1667.0</td>\n",
       "      <td>2152.0</td>\n",
       "      <td>2336.0</td>\n",
       "      <td>2452.0</td>\n",
       "      <td>3242.0</td>\n",
       "      <td>2127.0</td>\n",
       "      <td>0.0</td>\n",
       "      <td>266</td>\n",
       "      <td>6.0</td>\n",
       "    </tr>\n",
       "    <tr>\n",
       "      <th>1</th>\n",
       "      <td>-62.68736</td>\n",
       "      <td>-34.272929</td>\n",
       "      <td>1568298125113</td>\n",
       "      <td>234.0</td>\n",
       "      <td>674.0</td>\n",
       "      <td>995.0</td>\n",
       "      <td>1296.0</td>\n",
       "      <td>1623.0</td>\n",
       "      <td>1794.0</td>\n",
       "      <td>1977.0</td>\n",
       "      <td>2537.0</td>\n",
       "      <td>1670.0</td>\n",
       "      <td>0.0</td>\n",
       "      <td>266</td>\n",
       "      <td>6.0</td>\n",
       "    </tr>\n",
       "    <tr>\n",
       "      <th>2</th>\n",
       "      <td>-62.68736</td>\n",
       "      <td>-34.272929</td>\n",
       "      <td>1568470327636</td>\n",
       "      <td>448.0</td>\n",
       "      <td>875.0</td>\n",
       "      <td>1266.0</td>\n",
       "      <td>1589.0</td>\n",
       "      <td>1966.0</td>\n",
       "      <td>2084.0</td>\n",
       "      <td>2285.0</td>\n",
       "      <td>3266.0</td>\n",
       "      <td>2148.0</td>\n",
       "      <td>0.0</td>\n",
       "      <td>266</td>\n",
       "      <td>6.0</td>\n",
       "    </tr>\n",
       "    <tr>\n",
       "      <th>3</th>\n",
       "      <td>-62.68736</td>\n",
       "      <td>-34.272929</td>\n",
       "      <td>1568730123870</td>\n",
       "      <td>401.0</td>\n",
       "      <td>835.0</td>\n",
       "      <td>1150.0</td>\n",
       "      <td>1393.0</td>\n",
       "      <td>1773.0</td>\n",
       "      <td>1996.0</td>\n",
       "      <td>2125.0</td>\n",
       "      <td>3051.0</td>\n",
       "      <td>1964.0</td>\n",
       "      <td>0.0</td>\n",
       "      <td>266</td>\n",
       "      <td>6.0</td>\n",
       "    </tr>\n",
       "    <tr>\n",
       "      <th>4</th>\n",
       "      <td>-62.68736</td>\n",
       "      <td>-34.272929</td>\n",
       "      <td>1569162123961</td>\n",
       "      <td>469.0</td>\n",
       "      <td>898.0</td>\n",
       "      <td>1208.0</td>\n",
       "      <td>1489.0</td>\n",
       "      <td>1905.0</td>\n",
       "      <td>2116.0</td>\n",
       "      <td>2246.0</td>\n",
       "      <td>3055.0</td>\n",
       "      <td>2049.0</td>\n",
       "      <td>0.0</td>\n",
       "      <td>266</td>\n",
       "      <td>6.0</td>\n",
       "    </tr>\n",
       "  </tbody>\n",
       "</table>\n",
       "</div>"
      ],
      "text/plain": [
       "   longitude   latitude           time     B1     B3      B4      B5      B7  \\\n",
       "0  -62.68736 -34.272929  1567606328611  560.0  975.0  1382.0  1667.0  2152.0   \n",
       "1  -62.68736 -34.272929  1568298125113  234.0  674.0   995.0  1296.0  1623.0   \n",
       "2  -62.68736 -34.272929  1568470327636  448.0  875.0  1266.0  1589.0  1966.0   \n",
       "3  -62.68736 -34.272929  1568730123870  401.0  835.0  1150.0  1393.0  1773.0   \n",
       "4  -62.68736 -34.272929  1569162123961  469.0  898.0  1208.0  1489.0  1905.0   \n",
       "\n",
       "       B8      B9     B11     B12  QA60   id  cultivo  \n",
       "0  2336.0  2452.0  3242.0  2127.0   0.0  266      6.0  \n",
       "1  1794.0  1977.0  2537.0  1670.0   0.0  266      6.0  \n",
       "2  2084.0  2285.0  3266.0  2148.0   0.0  266      6.0  \n",
       "3  1996.0  2125.0  3051.0  1964.0   0.0  266      6.0  \n",
       "4  2116.0  2246.0  3055.0  2049.0   0.0  266      6.0  "
      ]
     },
     "execution_count": 34,
     "metadata": {},
     "output_type": "execute_result"
    }
   ],
   "source": [
    "# Vista dataframe con datos Sentinel 2-l2A\n",
    "df_s2l2a_1920.iloc[0:5, 0:15]"
   ]
  },
  {
   "cell_type": "markdown",
   "metadata": {},
   "source": [
    "Por ahora se tienen los datos descargados de cada satélite y cada campaña por separado; en lo que sigue se juntan. Los datos enmascarados (imágenes con nubes) aparecen como registros de valores nulos en cada dataframe los cuales se eliminan."
   ]
  },
  {
   "cell_type": "code",
   "execution_count": 35,
   "metadata": {},
   "outputs": [],
   "source": [
    "# Se juntan las campañas de cada satélite\n",
    "df_l8 = df_l8_1819.append(df_l8_1920)\n",
    "df_s1 = df_s1_1819.append(df_s1_1920)\n",
    "df_s2l1c = df_s2l1c_1819.append(df_s2l1c_1920)\n",
    "df_s2l2a = df_s2l2a_1819.append(df_s2l2a_1920)\n",
    "\n",
    "# Se elimina lo que no se necesita\n",
    "df_l8 = df_l8.drop([\"id\", \"dataset\"], axis=1)\n",
    "df_s1 = df_s1.drop([\"id\", \"dataset\"], axis=1)\n",
    "df_s2l1c = df_s2l1c.drop([\"id\", \"dataset\"], axis=1)\n",
    "df_s2l2a = df_s2l2a.drop([\"id\", \"dataset\"], axis=1)\n",
    "\n",
    "# Se eliminan las filas que tienen valores nulos en las bandas (solo las que fueron filtrados por cloud)\n",
    "df_l8 = df_l8[df_l8[\"B4\"].notna()]\n",
    "df_s1 = df_s1[df_s1[\"VV\"].notna()]\n",
    "df_s2l1c = df_s2l1c[df_s2l1c[\"B8\"].notna()]\n",
    "df_s2l2a = df_s2l2a[df_s2l2a[\"B8\"].notna()]\n",
    "\n",
    "# Se agrega una columna identificando cada satélite\n",
    "## 0: landsat 8\n",
    "## 1: Sentinel 2l1C\n",
    "## 2: Sentinel 2l2A\n",
    "\n",
    "df_l8[\"satelite\"] = 0\n",
    "df_s2l1c[\"satelite\"] = 1\n",
    "df_s2l2a[\"satelite\"] = 2"
   ]
  },
  {
   "cell_type": "markdown",
   "metadata": {},
   "source": [
    "Para reducir la cantidad de registros y poder unificar fechas se redondea la variable `time` en intervalos de 7 días. Es decir, si para un id `satelite` y una campaña específica hay varias imágenes dentro de un período de 7 días los valores se reducen mediante el promedio a un sólo registro para esa semana.\n",
    "\n",
    "**Como las bandas 'VV', 'VH' y 'angle' son exclusivas del satélite *Sentinel 1*, dichas bandas se incorporan (se hace un 'join') a través de las fechas redondeadas al dataset formado por los otros satélites**. Combinar de esta forma la información extraída de Sentinel 1 con los otros satélites permite reducir el número de registros y evita llenar con valores nulos las columnas `VV`, `VH` y `angle` en *L8* y *S2*."
   ]
  },
  {
   "cell_type": "code",
   "execution_count": 36,
   "metadata": {},
   "outputs": [],
   "source": [
    "# Se formatea 'time'\n",
    "day_divider = 86400000\n",
    "df_l8[\"time\"] = (df_l8[\"time\"] / day_divider).values.astype(dtype=\"datetime64[D]\")\n",
    "df_s1[\"time\"] = (df_s1[\"time\"] / day_divider).values.astype(dtype=\"datetime64[D]\")\n",
    "df_s2l1c[\"time\"] = (df_s2l1c[\"time\"] / day_divider).values.astype(dtype=\"datetime64[D]\")\n",
    "df_s2l2a[\"time\"] = (df_s2l2a[\"time\"] / day_divider).values.astype(dtype=\"datetime64[D]\")\n",
    "\n",
    "# Se redondea el tiempo en 7 días\n",
    "df_l8[\"time\"] = df_l8[\"time\"].dt.floor(\"7d\")\n",
    "df_s1[\"time\"] = df_s1[\"time\"].dt.floor(\"7d\")\n",
    "df_s2l1c[\"time\"] = df_s2l1c[\"time\"].dt.floor(\"7d\")\n",
    "df_s2l2a[\"time\"] = df_s2l2a[\"time\"].dt.floor(\"7d\")\n",
    "\n",
    "# Se reducen los datos por períodos de 7 días\n",
    "df_l8 = df_l8.groupby([\"globalid\", \"time\", \"campania\"]).mean().reset_index()\n",
    "df_s1 = df_s1.groupby([\"globalid\", \"time\", \"campania\"]).mean().reset_index()\n",
    "df_s2l1c = df_s2l1c.groupby([\"globalid\", \"time\", \"campania\"]).mean().reset_index()\n",
    "df_s2l2a = df_s2l2a.groupby([\"globalid\", \"time\", \"campania\"]).mean().reset_index()\n",
    "\n",
    "# Se agrupan los datos de cada satélite\n",
    "df_all_sat = pd.concat([df_l8, df_s2l1c, df_s2l2a])\n",
    "\n",
    "# Se incorporan las bandas del Sentinel 1 a 'df_all_sat'\n",
    "df_all_sat = pd.merge(\n",
    "    df_all_sat,\n",
    "    df_s1[[\"globalid\", \"time\", \"VV\", \"VH\", \"angle\"]],\n",
    "    on=[\"globalid\", \"time\"],\n",
    "    how=\"left\",\n",
    ")"
   ]
  },
  {
   "cell_type": "code",
   "execution_count": 37,
   "metadata": {},
   "outputs": [
    {
     "data": {
      "text/plain": [
       "(131559, 23)"
      ]
     },
     "execution_count": 37,
     "metadata": {},
     "output_type": "execute_result"
    }
   ],
   "source": [
    "df_all_sat.shape"
   ]
  },
  {
   "cell_type": "code",
   "execution_count": 38,
   "metadata": {},
   "outputs": [
    {
     "data": {
      "text/plain": [
       "True"
      ]
     },
     "execution_count": 38,
     "metadata": {},
     "output_type": "execute_result"
    }
   ],
   "source": [
    "# Se verifica que estén todos los globalid\n",
    "len(list(set(df_all_sat[\"globalid\"].values))) == len(list(set(dataset[\"globalid\"].values)))"
   ]
  },
  {
   "cell_type": "code",
   "execution_count": 39,
   "metadata": {},
   "outputs": [
    {
     "data": {
      "text/html": [
       "<div>\n",
       "<style scoped>\n",
       "    .dataframe tbody tr th:only-of-type {\n",
       "        vertical-align: middle;\n",
       "    }\n",
       "\n",
       "    .dataframe tbody tr th {\n",
       "        vertical-align: top;\n",
       "    }\n",
       "\n",
       "    .dataframe thead th {\n",
       "        text-align: right;\n",
       "    }\n",
       "</style>\n",
       "<table border=\"1\" class=\"dataframe\">\n",
       "  <thead>\n",
       "    <tr style=\"text-align: right;\">\n",
       "      <th></th>\n",
       "      <th>B1</th>\n",
       "      <th>B3</th>\n",
       "      <th>B4</th>\n",
       "      <th>B5</th>\n",
       "      <th>B7</th>\n",
       "      <th>B11</th>\n",
       "      <th>pixel_qa</th>\n",
       "      <th>cultivo</th>\n",
       "      <th>elevacion</th>\n",
       "      <th>filter</th>\n",
       "      <th>satelite</th>\n",
       "      <th>B8</th>\n",
       "      <th>B9</th>\n",
       "      <th>B12</th>\n",
       "      <th>QA60</th>\n",
       "      <th>VV</th>\n",
       "      <th>VH</th>\n",
       "      <th>angle</th>\n",
       "    </tr>\n",
       "  </thead>\n",
       "  <tbody>\n",
       "    <tr>\n",
       "      <th>0</th>\n",
       "      <td>325.0</td>\n",
       "      <td>689.0</td>\n",
       "      <td>616.0</td>\n",
       "      <td>2817.0</td>\n",
       "      <td>1297.5</td>\n",
       "      <td>2928.0</td>\n",
       "      <td>322.0</td>\n",
       "      <td>0.0</td>\n",
       "      <td>104.111862</td>\n",
       "      <td>0</td>\n",
       "      <td>0</td>\n",
       "      <td>NaN</td>\n",
       "      <td>NaN</td>\n",
       "      <td>NaN</td>\n",
       "      <td>NaN</td>\n",
       "      <td>-20.653214</td>\n",
       "      <td>-23.425196</td>\n",
       "      <td>41.442062</td>\n",
       "    </tr>\n",
       "    <tr>\n",
       "      <th>1</th>\n",
       "      <td>329.0</td>\n",
       "      <td>523.0</td>\n",
       "      <td>431.0</td>\n",
       "      <td>2684.0</td>\n",
       "      <td>976.0</td>\n",
       "      <td>2939.0</td>\n",
       "      <td>322.0</td>\n",
       "      <td>0.0</td>\n",
       "      <td>104.111862</td>\n",
       "      <td>0</td>\n",
       "      <td>0</td>\n",
       "      <td>NaN</td>\n",
       "      <td>NaN</td>\n",
       "      <td>NaN</td>\n",
       "      <td>NaN</td>\n",
       "      <td>-17.990721</td>\n",
       "      <td>-21.869543</td>\n",
       "      <td>35.690531</td>\n",
       "    </tr>\n",
       "    <tr>\n",
       "      <th>2</th>\n",
       "      <td>254.0</td>\n",
       "      <td>487.0</td>\n",
       "      <td>323.0</td>\n",
       "      <td>3443.0</td>\n",
       "      <td>788.0</td>\n",
       "      <td>2911.0</td>\n",
       "      <td>322.0</td>\n",
       "      <td>0.0</td>\n",
       "      <td>104.111862</td>\n",
       "      <td>0</td>\n",
       "      <td>0</td>\n",
       "      <td>NaN</td>\n",
       "      <td>NaN</td>\n",
       "      <td>NaN</td>\n",
       "      <td>NaN</td>\n",
       "      <td>-16.228463</td>\n",
       "      <td>-22.844177</td>\n",
       "      <td>35.691539</td>\n",
       "    </tr>\n",
       "    <tr>\n",
       "      <th>3</th>\n",
       "      <td>291.5</td>\n",
       "      <td>819.5</td>\n",
       "      <td>729.0</td>\n",
       "      <td>3700.0</td>\n",
       "      <td>1372.5</td>\n",
       "      <td>2898.0</td>\n",
       "      <td>322.0</td>\n",
       "      <td>0.0</td>\n",
       "      <td>104.111862</td>\n",
       "      <td>0</td>\n",
       "      <td>0</td>\n",
       "      <td>NaN</td>\n",
       "      <td>NaN</td>\n",
       "      <td>NaN</td>\n",
       "      <td>NaN</td>\n",
       "      <td>NaN</td>\n",
       "      <td>NaN</td>\n",
       "      <td>NaN</td>\n",
       "    </tr>\n",
       "    <tr>\n",
       "      <th>4</th>\n",
       "      <td>204.0</td>\n",
       "      <td>514.0</td>\n",
       "      <td>354.0</td>\n",
       "      <td>3911.0</td>\n",
       "      <td>706.0</td>\n",
       "      <td>2972.0</td>\n",
       "      <td>322.0</td>\n",
       "      <td>0.0</td>\n",
       "      <td>104.111862</td>\n",
       "      <td>0</td>\n",
       "      <td>0</td>\n",
       "      <td>NaN</td>\n",
       "      <td>NaN</td>\n",
       "      <td>NaN</td>\n",
       "      <td>NaN</td>\n",
       "      <td>-15.436536</td>\n",
       "      <td>-22.700348</td>\n",
       "      <td>35.692444</td>\n",
       "    </tr>\n",
       "  </tbody>\n",
       "</table>\n",
       "</div>"
      ],
      "text/plain": [
       "      B1     B3     B4      B5      B7     B11  pixel_qa  cultivo   elevacion  \\\n",
       "0  325.0  689.0  616.0  2817.0  1297.5  2928.0     322.0      0.0  104.111862   \n",
       "1  329.0  523.0  431.0  2684.0   976.0  2939.0     322.0      0.0  104.111862   \n",
       "2  254.0  487.0  323.0  3443.0   788.0  2911.0     322.0      0.0  104.111862   \n",
       "3  291.5  819.5  729.0  3700.0  1372.5  2898.0     322.0      0.0  104.111862   \n",
       "4  204.0  514.0  354.0  3911.0   706.0  2972.0     322.0      0.0  104.111862   \n",
       "\n",
       "   filter  satelite  B8  B9  B12  QA60         VV         VH      angle  \n",
       "0       0         0 NaN NaN  NaN   NaN -20.653214 -23.425196  41.442062  \n",
       "1       0         0 NaN NaN  NaN   NaN -17.990721 -21.869543  35.690531  \n",
       "2       0         0 NaN NaN  NaN   NaN -16.228463 -22.844177  35.691539  \n",
       "3       0         0 NaN NaN  NaN   NaN        NaN        NaN        NaN  \n",
       "4       0         0 NaN NaN  NaN   NaN -15.436536 -22.700348  35.692444  "
      ]
     },
     "execution_count": 39,
     "metadata": {},
     "output_type": "execute_result"
    }
   ],
   "source": [
    "# Vista de algunas columnas del dataset que tiene todas las imágenes satelitales\n",
    "df_all_sat.iloc[0:5, 5:23]"
   ]
  },
  {
   "cell_type": "markdown",
   "metadata": {},
   "source": [
    "**Se tiene un dataset con los datos de verdad de campo unidos a la información de las imágenes descargadas de todos los satélites**. O sea, para cada `globalid` hay múltiples registros, donde cada uno representa una imagen de un satélite en una fecha determinada. \n",
    "\n",
    "Si por ejemplo se promedian los valores de las filas por id de `satélite` cada `globalid` quedaría con 3 registros, provenientes de los satélites *Landsat 8*, *Sentinel 2-l1C* y *Sentinel 2-l2A*; todos tendrían las variables `VV`, `VH` y `angle` con las mismas magnitudes."
   ]
  },
  {
   "cell_type": "markdown",
   "metadata": {},
   "source": [
    "## 4. Ingeniería de características\n",
    "\n",
    "### 3.1. Variables de tiempo\n",
    "Se crean algunas variables relacionadas con las fechas en las que fueron tomadas las fotografías por los satélites."
   ]
  },
  {
   "cell_type": "code",
   "execution_count": 40,
   "metadata": {},
   "outputs": [],
   "source": [
    "def rel_time(df, basedate):\n",
    "    \"\"\"\n",
    "    Retorna la diferencia en días entre la fecha de un registro de un dataframe dado ('df') y una \n",
    "    fecha base definida ('basedate').\n",
    "\n",
    "    :param df: Dataframe con la variable de tiempo a calcular el tiempo relativo.\n",
    "    :param basedate: Fecha base para calcular la diferencia en días con la fecha del registro.\n",
    "\n",
    "    \"\"\"\n",
    "    # Fecha base\n",
    "    basedate = pd.Timestamp(basedate)\n",
    "\n",
    "    return (df[\"time\"] - basedate).dt.days"
   ]
  },
  {
   "cell_type": "code",
   "execution_count": 41,
   "metadata": {},
   "outputs": [
    {
     "name": "stdout",
     "output_type": "stream",
     "text": [
      "-3\n",
      "361\n"
     ]
    }
   ],
   "source": [
    "# Tiempo relativo en días al inicio de las campañas (mes de septiembre)\n",
    "df_all_sat[\"time_rel\"] = np.where(\n",
    "    df_all_sat[\"campania\"] == \"18/19\",\n",
    "    rel_time(df_all_sat, \"2018-09-01\"),\n",
    "    rel_time(df_all_sat, \"2019-09-01\"),\n",
    ")\n",
    "\n",
    "# Se verifica que el valor en días no supere 365\n",
    "print(df_all_sat[\"time_rel\"].min())\n",
    "print(df_all_sat[\"time_rel\"].max())"
   ]
  },
  {
   "cell_type": "markdown",
   "metadata": {},
   "source": [
    "Para cada `globalid` de cada `satelite` se calcula la diferencia en días entre la primera y la última imagen obtenida por cada satélite (un `globalid` pertenece a una sola campaña). "
   ]
  },
  {
   "cell_type": "code",
   "execution_count": 42,
   "metadata": {},
   "outputs": [],
   "source": [
    "# Se ordenan los valores por 'time' en cada 'globalid' de cada 'satelite'\n",
    "df_all_sat = (\n",
    "    df_all_sat.groupby([\"globalid\", \"satelite\"])\n",
    "    .apply(pd.DataFrame.sort_values, \"time\")\n",
    "    .reset_index(drop=True)\n",
    ")\n",
    "\n",
    "# Lapso de tiempo entre la última imagen obtenida y la primera\n",
    "df_all_sat[\"time_lag\"] = df_all_sat.groupby([\"globalid\", \"satelite\"])[\"time_rel\"].transform(\n",
    "    \"last\"\n",
    ") - df_all_sat.groupby([\"globalid\", \"satelite\"])[\"time_rel\"].transform(\"first\")"
   ]
  },
  {
   "cell_type": "markdown",
   "metadata": {},
   "source": [
    "### 3.2. Índices ambientales"
   ]
  },
  {
   "cell_type": "markdown",
   "metadata": {},
   "source": [
    "**Se agregan índices ambientales como variables a la base de datos desarrollada**. De todos los indicadores disponibles en la clase `Indices` se elige trabajar con 8 de ellos, luego de efectuar algunas pruebas."
   ]
  },
  {
   "cell_type": "code",
   "execution_count": 43,
   "metadata": {},
   "outputs": [],
   "source": [
    "class Indices:\n",
    "\n",
    "    \"\"\"Retorna el valor calculado de difrentes índices ambientales.\"\"\"\n",
    "\n",
    "    def __init__(self, green=None, red=None, nir=None, swir2=None):\n",
    "\n",
    "        \"\"\"\n",
    "        Parámetros.\n",
    "\n",
    "        :param green: Columna que representa la banda 'verde'.\n",
    "        :param red: Columna que representa la banda 'roja'.\n",
    "        :param nir: Columna que representa el infrarrojo cercano, 'NIR'.\n",
    "        :param swir2: Columna que representa el infrarrojo medio', 'SWIR'.\n",
    "\n",
    "        \"\"\"\n",
    "\n",
    "        self.green = green\n",
    "        self.red = red\n",
    "        self.nir = nir\n",
    "        self.swir2 = swir2\n",
    "\n",
    "    def sr(self):\n",
    "        \"\"\"\n",
    "        Simple Ratio Vegetation Index.\n",
    "        nir/red\n",
    "        \"\"\"\n",
    "\n",
    "        sr = self.nir.astype(float) / self.red.astype(float)\n",
    "        return sr\n",
    "\n",
    "    def ndvi(self):\n",
    "        \"\"\"\n",
    "        Normalised Difference Vegetation Index.\n",
    "        (nir - red) / (nir + red)\n",
    "        \"\"\"\n",
    "\n",
    "        ndvi = self.nir.astype(float) - self.red.astype(float) / (self.nir + self.red)\n",
    "        return ndvi\n",
    "\n",
    "    def tvi(self):\n",
    "        \"\"\"\n",
    "        Transformed Vegetation Index.\n",
    "        sqrt((nir - red) / (nir + red) + 0.5)\n",
    "        \"\"\"\n",
    "\n",
    "        tvi = np.sqrt(\n",
    "            (self.nir.astype(float) - self.red.astype(float)) / (self.nir + self.red) + 0.5\n",
    "        )\n",
    "        return tvi\n",
    "\n",
    "    def ttvi(self):\n",
    "        \"\"\"\n",
    "        Thiam's Transformed Vegetation Index.\n",
    "        sqrt(abs((nir - red) / (nir + red) + 0.5))\n",
    "        \"\"\"\n",
    "\n",
    "        ttvi = np.sqrt(\n",
    "            np.absolute(\n",
    "                (self.nir.astype(float) - self.red.astype(float)) / (self.nir + self.red) + 0.5\n",
    "            )\n",
    "        )\n",
    "        return ttvi\n",
    "\n",
    "    def nrvi(self):\n",
    "        \"\"\"\n",
    "        Normalised Ratio Vegetation Index.\n",
    "        (red / nir - 1) / (red / nir + 1)\n",
    "        \"\"\"\n",
    "\n",
    "        nrvi = (self.red.astype(float) / self.nir.astype(float) - 1) / ((self.red / self.nir) + 1)\n",
    "        return nrvi\n",
    "\n",
    "    def rvi(self):\n",
    "        \"\"\"\n",
    "        Ratio Vegetation Index.\n",
    "        red / nir\n",
    "        \"\"\"\n",
    "\n",
    "        rvi = self.red.astype(float) / self.nir.astype(float)\n",
    "        return rvi\n",
    "\n",
    "    def savi(self):\n",
    "        \"\"\"\n",
    "        Soil Adjusted Vegetation Index.\n",
    "        (nir - red) * (1 + L) / (nir + red + L)\n",
    "        \"\"\"\n",
    "\n",
    "        savi = (self.nir.astype(float) - self.red.astype(float) * (1 + 0.5)) / (\n",
    "            self.nir + self.red + 0.5\n",
    "        )\n",
    "        return savi\n",
    "\n",
    "    def msavi(self):\n",
    "        \"\"\"\n",
    "        Modified Soil Adjusted Vegetation Index.\n",
    "        nir + 0.5 - (0.5 * sqrt((2 * nir + 1)^2 - 8 * (nir - (2 * red))))\n",
    "        \"\"\"\n",
    "\n",
    "        msavi = self.nir.astype(float) + 0.5\n",
    "        -(\n",
    "            0.5\n",
    "            * np.sqrt(\n",
    "                (2 * self.nir.astype(float) + 1) ** 2\n",
    "                - 8 * (self.nir.astype(float) - (2 * self.red.astype(float)))\n",
    "            )\n",
    "        )\n",
    "        return msavi\n",
    "\n",
    "    def msavi2(self):\n",
    "        \"\"\"\n",
    "        Modified Soil Adjusted Vegetation Index 2.\n",
    "        (2 * (nir + 1) - sqrt((2 * nir + 1)^2 - 8 * (nir - red))) / 2\n",
    "        \"\"\"\n",
    "\n",
    "        msavi2 = (\n",
    "            2 * (self.nir.astype(float) + 1)\n",
    "            - np.sqrt(\n",
    "                (2 * self.nir.astype(float) + 1) ** 2\n",
    "                - 8 * (self.nir.astype(float) - self.red.astype(float))\n",
    "            )\n",
    "        ) / 2\n",
    "        return msavi2\n",
    "\n",
    "    def gemi(self):\n",
    "        \"\"\"\n",
    "        Global Environmental Monitoring Index.\n",
    "        (((nir^2 - red^2) * 2 + (nir * 1.5) + (red * 0.5)) / (nir + red + 0.5))\n",
    "          * (1 - ((((nir^2 - red^2) * 2 + (nir * 1.5) + (red * 0.5)) / (nir + red + 0.5)) * 0.25))\n",
    "          - ((red - 0.125)/(1 - red))\n",
    "        \"\"\"\n",
    "\n",
    "        gemi = (\n",
    "            (\n",
    "                (self.nir.astype(float) ** 2 - self.red.astype(float) ** 2) * 2\n",
    "                + (self.nir * 1.5)\n",
    "                + (self.red * 0.5)\n",
    "            )\n",
    "            / (self.nir + self.red + 0.5)\n",
    "        ) * (\n",
    "            1\n",
    "            - (\n",
    "                (\n",
    "                    ((self.nir ** 2 - self.red ** 2) * 2 + (self.nir * 1.5) + (self.red * 0.5))\n",
    "                    / (self.nir + self.red + 0.5)\n",
    "                )\n",
    "                * 0.25\n",
    "            )\n",
    "        ) - (\n",
    "            (self.red - 0.125) / (1 - self.red)\n",
    "        )\n",
    "        return gemi\n",
    "\n",
    "    def ctvi(self):\n",
    "        \"\"\"\n",
    "        Corrected Transformed Vegetation Index.\n",
    "        (NDVI + 0.5) / sqrt(abs(NDVI + 0.5))\n",
    "        \"\"\"\n",
    "\n",
    "        ctvi = (self.ndvi() + 0.5) / np.sqrt(np.absolute(self.ndvi() + 0.5))\n",
    "        return ctvi\n",
    "\n",
    "    def dvi(self):\n",
    "        \"\"\"\n",
    "        Difference Vegetation Index.\n",
    "        s * nir - red\n",
    "        \"\"\"\n",
    "\n",
    "        s = self.nir.astype(float) / self.red.astype(float)\n",
    "        dvi = s * self.nir.astype(float) - self.red.astype(float)\n",
    "        return dvi\n",
    "\n",
    "    def wdvi(self):\n",
    "        \"\"\"\n",
    "        Weighted Difference Vegetation Index.\n",
    "        nir - s * red\n",
    "        \"\"\"\n",
    "\n",
    "        s = self.nir.astype(float) / self.red.astype(float)\n",
    "        wdvi = self.nir.astype(float) - s * self.red.astype(float)\n",
    "        return wdvi\n",
    "\n",
    "    def gndvi(self):\n",
    "        \"\"\"\n",
    "        Green Normalised Difference Vegetation Index.\n",
    "        (nir - green) / (nir + green)\n",
    "        \"\"\"\n",
    "\n",
    "        gndvi = (self.nir.astype(float) - self.green.astype(float)) / (self.nir + self.green)\n",
    "        return gndvi\n",
    "\n",
    "    def ndwi(self):\n",
    "        \"\"\"\n",
    "        Normalised Difference Water Index.\n",
    "        (green - nir) / (green + nir)\n",
    "        \"\"\"\n",
    "\n",
    "        ndwi = (self.green.astype(float) - self.nir.astype(float)) / (self.green + self.nir)\n",
    "        return ndwi\n",
    "\n",
    "    def ndwi2(self):\n",
    "        \"\"\"\n",
    "        Normalised Difference Water Index 2.\n",
    "        (nir - swir2) / (nir + swir2)\n",
    "        \"\"\"\n",
    "\n",
    "        ndwi2 = (self.nir.astype(float) - self.swir2.astype(float)) / (self.nir + self.swir2)\n",
    "        return ndwi2\n",
    "\n",
    "    def mndwi(self):\n",
    "        \"\"\"\n",
    "        Modified Normalised Difference Water Index .\n",
    "        (green - swir2) / (green + swir2)\n",
    "        \"\"\"\n",
    "        mndwi = (self.green.astype(float) - self.swir2.astype(float)) / (self.green + self.swir2)\n",
    "        return mndwi\n",
    "\n",
    "    def slavi(self):\n",
    "        \"\"\"\n",
    "        Specific Leaf Area Vegetation Index.\n",
    "        nir / (red + swir2)\n",
    "        \"\"\"\n",
    "\n",
    "        slavi = self.nir.astype(float) / (self.red.astype(float) + self.swir2.astype(float))\n",
    "        return slavi"
   ]
  },
  {
   "cell_type": "markdown",
   "metadata": {},
   "source": [
    "De acuerdo al tipo de satélite se identifican las bandas como:\n",
    "\n",
    "*Landsat 8*:\n",
    "- B3: Green\n",
    "- B4: Red\n",
    "- B5: NIR\n",
    "- B7: SWIR2\n",
    "\n",
    "*Sentinel 2*:\n",
    "- B3: Green\n",
    "- B4: Red\n",
    "- B8: NIR\n",
    "- B12: SWIR2"
   ]
  },
  {
   "cell_type": "code",
   "execution_count": 44,
   "metadata": {},
   "outputs": [],
   "source": [
    "# Se definen las bandas correspondientes de cada satélite para calcular los índices\n",
    "indices_l8 = Indices(\n",
    "    green=df_all_sat[\"B3\"], red=df_all_sat[\"B4\"], nir=df_all_sat[\"B5\"], swir2=df_all_sat[\"B7\"]\n",
    ")\n",
    "\n",
    "indices_s2 = Indices(\n",
    "    green=df_all_sat[\"B3\"], red=df_all_sat[\"B4\"], nir=df_all_sat[\"B8\"], swir2=df_all_sat[\"B12\"]\n",
    ")\n",
    "\n",
    "# Lista de índices que se van a calcular (se eligen algunos)\n",
    "indices_list = [\"ctvi\", \"gemi\", \"mndwi\", \"ndwi2\", \"rvi\", \"savi\", \"slavi\", \"tvi\"]\n",
    "\n",
    "# Se calculan los índices de la lista y se agregan al dataset 'df_all_sat'\n",
    "## 0: landsat 8\n",
    "## Not 0: Sentinel\n",
    "for idx in indices_list:\n",
    "    df_all_sat[idx] = np.where(\n",
    "        df_all_sat[\"satelite\"] == 0,\n",
    "        eval(\"\".join([\"indices_l8.\", idx, \"()\"])),\n",
    "        eval(\"\".join([\"indices_s2.\", idx, \"()\"])),\n",
    "    )"
   ]
  },
  {
   "cell_type": "code",
   "execution_count": 45,
   "metadata": {},
   "outputs": [
    {
     "data": {
      "text/html": [
       "<div>\n",
       "<style scoped>\n",
       "    .dataframe tbody tr th:only-of-type {\n",
       "        vertical-align: middle;\n",
       "    }\n",
       "\n",
       "    .dataframe tbody tr th {\n",
       "        vertical-align: top;\n",
       "    }\n",
       "\n",
       "    .dataframe thead th {\n",
       "        text-align: right;\n",
       "    }\n",
       "</style>\n",
       "<table border=\"1\" class=\"dataframe\">\n",
       "  <thead>\n",
       "    <tr style=\"text-align: right;\">\n",
       "      <th></th>\n",
       "      <th>ctvi</th>\n",
       "      <th>gemi</th>\n",
       "      <th>mndwi</th>\n",
       "      <th>ndwi2</th>\n",
       "      <th>rvi</th>\n",
       "      <th>savi</th>\n",
       "      <th>slavi</th>\n",
       "      <th>tvi</th>\n",
       "    </tr>\n",
       "  </thead>\n",
       "  <tbody>\n",
       "    <tr>\n",
       "      <th>0</th>\n",
       "      <td>53.078438</td>\n",
       "      <td>-4.841493e+06</td>\n",
       "      <td>-0.306318</td>\n",
       "      <td>0.369304</td>\n",
       "      <td>0.218672</td>\n",
       "      <td>0.551332</td>\n",
       "      <td>1.472171</td>\n",
       "      <td>1.068237</td>\n",
       "    </tr>\n",
       "    <tr>\n",
       "      <th>1</th>\n",
       "      <td>51.810825</td>\n",
       "      <td>-5.072939e+06</td>\n",
       "      <td>-0.302201</td>\n",
       "      <td>0.466667</td>\n",
       "      <td>0.160581</td>\n",
       "      <td>0.653988</td>\n",
       "      <td>1.907605</td>\n",
       "      <td>1.106017</td>\n",
       "    </tr>\n",
       "    <tr>\n",
       "      <th>2</th>\n",
       "      <td>58.680612</td>\n",
       "      <td>-9.729986e+06</td>\n",
       "      <td>-0.236078</td>\n",
       "      <td>0.627511</td>\n",
       "      <td>0.093814</td>\n",
       "      <td>0.785477</td>\n",
       "      <td>3.099010</td>\n",
       "      <td>1.152591</td>\n",
       "    </tr>\n",
       "    <tr>\n",
       "      <th>3</th>\n",
       "      <td>60.830382</td>\n",
       "      <td>-8.822872e+06</td>\n",
       "      <td>-0.252281</td>\n",
       "      <td>0.458847</td>\n",
       "      <td>0.197027</td>\n",
       "      <td>0.588441</td>\n",
       "      <td>1.760647</td>\n",
       "      <td>1.082038</td>\n",
       "    </tr>\n",
       "    <tr>\n",
       "      <th>4</th>\n",
       "      <td>62.541322</td>\n",
       "      <td>-1.264721e+07</td>\n",
       "      <td>-0.157377</td>\n",
       "      <td>0.694174</td>\n",
       "      <td>0.090514</td>\n",
       "      <td>0.792404</td>\n",
       "      <td>3.689623</td>\n",
       "      <td>1.154988</td>\n",
       "    </tr>\n",
       "  </tbody>\n",
       "</table>\n",
       "</div>"
      ],
      "text/plain": [
       "        ctvi          gemi     mndwi     ndwi2       rvi      savi     slavi  \\\n",
       "0  53.078438 -4.841493e+06 -0.306318  0.369304  0.218672  0.551332  1.472171   \n",
       "1  51.810825 -5.072939e+06 -0.302201  0.466667  0.160581  0.653988  1.907605   \n",
       "2  58.680612 -9.729986e+06 -0.236078  0.627511  0.093814  0.785477  3.099010   \n",
       "3  60.830382 -8.822872e+06 -0.252281  0.458847  0.197027  0.588441  1.760647   \n",
       "4  62.541322 -1.264721e+07 -0.157377  0.694174  0.090514  0.792404  3.689623   \n",
       "\n",
       "        tvi  \n",
       "0  1.068237  \n",
       "1  1.106017  \n",
       "2  1.152591  \n",
       "3  1.082038  \n",
       "4  1.154988  "
      ]
     },
     "execution_count": 45,
     "metadata": {},
     "output_type": "execute_result"
    }
   ],
   "source": [
    "# Vista previa de los índices calculados\n",
    "df_all_sat.iloc[0:5, 25:40]"
   ]
  },
  {
   "cell_type": "markdown",
   "metadata": {},
   "source": [
    "### 3.3. Agregaciones múltiples"
   ]
  },
  {
   "cell_type": "markdown",
   "metadata": {},
   "source": [
    "Se calculan nuevas 'features' en base a una serie de columnas elegidas. La decisión de considerar o descartar algunas variables surge luego de efectuar iterativamente distintas pruebas."
   ]
  },
  {
   "cell_type": "code",
   "execution_count": 46,
   "metadata": {},
   "outputs": [
    {
     "name": "stdout",
     "output_type": "stream",
     "text": [
      "Wall time: 49.8 s\n"
     ]
    }
   ],
   "source": [
    "%%time\n",
    "\n",
    "# Lista de columnas para crear nuevas 'features'\n",
    "cols = [\n",
    "    \"B1\",\n",
    "    \"B3\",\n",
    "    \"B4\",\n",
    "    \"B5\",\n",
    "    \"B7\",\n",
    "    \"B8\",\n",
    "    \"B9\",\n",
    "    \"B11\",\n",
    "    \"B12\",\n",
    "    \"ctvi\",\n",
    "    \"gemi\",\n",
    "    \"mndwi\",\n",
    "    \"ndwi2\",\n",
    "    \"rvi\",\n",
    "    \"savi\",\n",
    "    \"slavi\",\n",
    "    \"tvi\",\n",
    "    \"VV\",\n",
    "    \"VH\",\n",
    "]\n",
    "\n",
    "# Por cada columna en la lista se agregan nuevas variables\n",
    "for col in cols:\n",
    "\n",
    "    # Media por 'globalid' y 'satélite'\n",
    "    df_all_sat[[col + \"_mean\"]] = (\n",
    "        df_all_sat.groupby([\"globalid\", \"satelite\"])[col].transform(\"mean\")\n",
    "        / df_all_sat[\"time_lag\"]\n",
    "    )\n",
    "\n",
    "    # Desvío standard por 'globalid' y 'satélite'\n",
    "    df_all_sat[[col + \"_min\"]] = (\n",
    "        df_all_sat.groupby([\"globalid\", \"satelite\"])[col].transform(\"min\") / df_all_sat[\"time_lag\"]\n",
    "    )\n",
    "\n",
    "    # Máximo por 'globalid' y 'satélite'\n",
    "    df_all_sat[[col + \"_max\"]] = (\n",
    "        df_all_sat.groupby([\"globalid\", \"satelite\"])[col].transform(\"max\") / df_all_sat[\"time_lag\"]\n",
    "    )\n",
    "\n",
    "    # Mínimo por 'globalid' y 'satélite'\n",
    "    df_all_sat[[col + \"_std\"]] = (\n",
    "        df_all_sat.groupby([\"globalid\", \"satelite\"])[col].transform(\"std\") / df_all_sat[\"time_lag\"]\n",
    "    )\n",
    "\n",
    "    # Diferencia entre el máximo y mínimo por 'globalid' y 'satélite'\n",
    "    df_all_sat[col + \"_amp\"] = df_all_sat[col + \"_max\"] - df_all_sat[col + \"_min\"]\n",
    "\n",
    "    # Media rodante por 'globalid' y 'satélite' (ventana móvil de tamaño 4)\n",
    "    df_all_sat[[col + \"_roll_mean\"]] = (\n",
    "        df_all_sat.groupby([\"globalid\", \"satelite\"])[col].rolling(4).mean().reset_index(drop=True)\n",
    "    )\n",
    "\n",
    "    # Desvío standart rodante por 'globalid' y 'satélite' (ventana móvil de tamaño 4)\n",
    "    df_all_sat[[col + \"_roll_std\"]] = (\n",
    "        df_all_sat.groupby([\"globalid\", \"satelite\"])[col].rolling(4).std().reset_index(drop=True)\n",
    "    )\n",
    "\n",
    "    # Mínimo rodante por 'globalid' y 'satélite' (ventana móvil de tamaño 4)\n",
    "    df_all_sat[[col + \"_roll_min\"]] = (\n",
    "        df_all_sat.groupby([\"globalid\", \"satelite\"])[col].rolling(4).min().reset_index(drop=True)\n",
    "    )\n",
    "\n",
    "    # Máximo rodante por 'globalid' y 'satélite' (ventana móvil de tamaño 4)\n",
    "    df_all_sat[[col + \"_roll_max\"]] = (\n",
    "        df_all_sat.groupby([\"globalid\", \"satelite\"])[col].rolling(4).max().reset_index(drop=True)\n",
    "    )"
   ]
  },
  {
   "cell_type": "code",
   "execution_count": 47,
   "metadata": {},
   "outputs": [
    {
     "data": {
      "text/plain": [
       "(131559, 204)"
      ]
     },
     "execution_count": 47,
     "metadata": {},
     "output_type": "execute_result"
    }
   ],
   "source": [
    "df_all_sat.shape"
   ]
  },
  {
   "cell_type": "markdown",
   "metadata": {},
   "source": [
    "**Se eliminan algunas columnas que no se consideran relevantes**. Como se explicó previamente `longitude`, `latitude` y `elevacion` se descartan para evitar sobreajuste en el modelo debido a la cercanía de los datos aumentados."
   ]
  },
  {
   "cell_type": "code",
   "execution_count": 48,
   "metadata": {},
   "outputs": [
    {
     "data": {
      "text/plain": [
       "(131559, 196)"
      ]
     },
     "execution_count": 48,
     "metadata": {},
     "output_type": "execute_result"
    }
   ],
   "source": [
    "# Se elimina lo que no se necesita\n",
    "df_all_sat = df_all_sat.drop(\n",
    "    [\"longitude\", \"latitude\", \"elevacion\", \"campania\", \"time\", \"pixel_qa\", \"QA60\", \"time_rel\"],\n",
    "    axis=1,\n",
    ")\n",
    "df_all_sat.shape"
   ]
  },
  {
   "cell_type": "markdown",
   "metadata": {},
   "source": [
    "## 4. Lineamientos del modelo de clasificación\n",
    "Seguidamente se describen las limitaciones del modelo final y se explica porque se adoptaron algunos criterios. **Este paso solamente es informativo, se puede omitir y pasar al punto 5**.\n",
    "\n",
    "Primero, se vuelven a separar los datos de entrenamiento del conjunto de evaluación."
   ]
  },
  {
   "cell_type": "code",
   "execution_count": 49,
   "metadata": {},
   "outputs": [
    {
     "name": "stdout",
     "output_type": "stream",
     "text": [
      "Número de registros final para entrenar: 93924\n",
      "Cantidad de columnas del conjunto de entrenamiento: 195\n"
     ]
    }
   ],
   "source": [
    "# Se separan los conjuntos de train y test\n",
    "train = df_all_sat[df_all_sat[\"filter\"] == 0]\n",
    "test = df_all_sat[df_all_sat[\"filter\"] == 1]\n",
    "\n",
    "# Se elimina la columna 'filter'\n",
    "train = train.drop([\"filter\"], axis=1)\n",
    "test = test.drop([\"filter\"], axis=1)\n",
    "\n",
    "# Se asegura que el target sea de tipo entero\n",
    "train[\"cultivo\"] = train[\"cultivo\"].astype(int)\n",
    "\n",
    "print(f\"Número de registros final para entrenar: {train.shape[0]}\")\n",
    "print(f\"Cantidad de columnas del conjunto de entrenamiento: {train.shape[1]}\")"
   ]
  },
  {
   "cell_type": "markdown",
   "metadata": {},
   "source": [
    "A partir de ahora se pueden seguir varios caminos. Por ejemplo, una opción sería separar el conjunto de datos en 3 datasets, 1 por cada satélite y nivel de corrección (*Landasat 8*, *Sentinel 2-l2A* y *Sentinel 2-l1C*), en consecuencia, hacer 3 modelos independientes y ensamblar al final las probabilidades predichas por cada uno. \n",
    "\n",
    "**En este trabajo se decidió construir solamente un modelo esperando que el mismo sepa diferenciar de que satélite provienen los datos**. Todavía hay varios registros por `globalid` que corresponden a imágenes descargadas en distintas fechas, pero **se anticipa que en el modelo final con el criterio seguido se obtendrán por** `globalid` **3 predicciones con 14 probabilidades**   (1 de *L8*, 1 de *S2-l2A* y 1 de *S2-l1C* estando las bandas de *S1* incorporadas en cada dataset). **Se propone sumar las probabilidades y que el máximo valor resultante defina la clase predicha**.\n",
    "\n",
    "Se prueba un modelo de Gradient Boosting (*Lightgbm*) para clasificar los cultivos, para eso dividen los datos de entrenamiento en train y test. Dicha operación implica separar los conjuntos por `globalid` y `cultivo`. "
   ]
  },
  {
   "cell_type": "code",
   "execution_count": 50,
   "metadata": {},
   "outputs": [],
   "source": [
    "# La separación se realiza por 'globalid'\n",
    "Xy = train[[\"globalid\", \"cultivo\"]].drop_duplicates()\n",
    "\n",
    "# Se hace una división estratificada por 'cultivo'\n",
    "## Tener en cuenta que van a quedar en test registros de 'globalid'\n",
    "## creados artificialmente con la aumentación de datos y podrían no ser\n",
    "## representativos de la clase real (puntos que 'cayeron' en otros cultivos).\n",
    "X_tr, X_te = train_test_split(Xy, test_size=0.2, random_state=43657, stratify=Xy[\"cultivo\"])\n",
    "\n",
    "# Se crean los conjuntos de train y test con globalid unicos\n",
    "X_train = train[train[\"globalid\"].isin(list(X_tr[\"globalid\"]))]\n",
    "X_test = train[train[\"globalid\"].isin(list(X_te[\"globalid\"]))]\n",
    "\n",
    "# Se separa la variable a predecir\n",
    "y_train = X_train[[\"cultivo\"]]\n",
    "\n",
    "# Valores únicos de la clase a predecir\n",
    "y_test = X_test[[\"globalid\", \"cultivo\"]]\n",
    "y_test = y_test.groupby(\"globalid\").mean()\n",
    "y_test = y_test[\"cultivo\"].values\n",
    "\n",
    "# Se crea una variable que permite agrupar las predicciones\n",
    "glid_test = X_test[[\"globalid\"]]\n",
    "\n",
    "# Se elimina la variable 'cultivo'\n",
    "X_train = X_train.drop([\"globalid\", \"cultivo\", \"satelite\"], axis=1)\n",
    "X_test = X_test.drop([\"globalid\", \"cultivo\", \"satelite\"], axis=1)"
   ]
  },
  {
   "cell_type": "markdown",
   "metadata": {},
   "source": [
    "Si bien el modelo no está optimizado y el conjunto de test contiene datos incorrectos sirve para tener una primera impresión de lo que está pasando."
   ]
  },
  {
   "cell_type": "code",
   "execution_count": 51,
   "metadata": {},
   "outputs": [
    {
     "name": "stdout",
     "output_type": "stream",
     "text": [
      "Balanced Accuracy: 0.7111288125263281\n",
      "Wall time: 32.1 s\n"
     ]
    }
   ],
   "source": [
    "%%time\n",
    "\n",
    "# Formato lightgbm\n",
    "dtrain = lgb.Dataset(X_train, y_train)\n",
    "\n",
    "# Parámetros del modelo\n",
    "params = {\n",
    "    \"boosting_type\": \"goss\",\n",
    "    \"objective\": \"multiclass\",\n",
    "    \"num_class\": 14,\n",
    "    \"boost_from_average\": True,\n",
    "    \"feature_fraction\": 0.95,\n",
    "    \"learning_rate\": 0.13,\n",
    "    \"max_bin\": 20,\n",
    "    \"min_data_in_leaf\": 48,\n",
    "    \"min_gain_to_split\": 6,\n",
    "    \"num_leaves\": 457,\n",
    "    \"other_rate\": 0.05,\n",
    "    \"top_rate\": 0.01,\n",
    "    \"seed\": 124,\n",
    "    \"num_threads\": 4,\n",
    "    \"verbosity\": -1,\n",
    "}\n",
    "\n",
    "\n",
    "# Entrenamiento del modelo\n",
    "model = lgb.train(params=params, train_set=dtrain, num_boost_round=507)\n",
    "\n",
    "\n",
    "# Se hacen las predicciones\n",
    "predictions = model.predict(X_test)\n",
    "\n",
    "# Se agrega el 'globalid' correspondiente a las predicciones\n",
    "df_pred = pd.concat([glid_test.reset_index(drop=True), pd.DataFrame(predictions)], axis=1)\n",
    "\n",
    "# Se suman los valores de las predicciones por cada 'globalid'\n",
    "df_pred = df_pred.groupby(\"globalid\").sum()\n",
    "\n",
    "# La máxima probabilidad define la clase del registro\n",
    "y_pred = df_pred.idxmax(axis=1).values\n",
    "\n",
    "# Métrica de control\n",
    "balanced_accuracy = balanced_accuracy_score(y_test, y_pred)\n",
    "\n",
    "print(f\"Balanced Accuracy: {balanced_accuracy}\")"
   ]
  },
  {
   "cell_type": "markdown",
   "metadata": {},
   "source": [
    "### 4.1. Variables importantes\n",
    "Se utilizan [valores de shapley](https://github.com/slundberg/shap) para tener una referencia del impacto que producen las variables en el resultado de las predicciones del modelo."
   ]
  },
  {
   "cell_type": "code",
   "execution_count": 52,
   "metadata": {},
   "outputs": [
    {
     "name": "stdout",
     "output_type": "stream",
     "text": [
      "Wall time: 2min 21s\n"
     ]
    }
   ],
   "source": [
    "%%time\n",
    "\n",
    "# Se calculan los valores shapley\n",
    "shap_values = shap.TreeExplainer(model).shap_values(X_test)"
   ]
  },
  {
   "cell_type": "code",
   "execution_count": 53,
   "metadata": {},
   "outputs": [
    {
     "data": {
      "image/png": "[encoded data removed]",
      "text/plain": [
       "<Figure size 576x972 with 1 Axes>"
      ]
     },
     "metadata": {
      "needs_background": "light"
     },
     "output_type": "display_data"
    }
   ],
   "source": [
    "# Se visualizan las 30 variables más importantes a nivel global asignadas por este método\n",
    "shap.summary_plot(shap_values, X_test, max_display=30)"
   ]
  },
  {
   "cell_type": "code",
   "execution_count": 54,
   "metadata": {},
   "outputs": [
    {
     "data": {
      "image/png": "[encoded data removed]",
      "text/plain": [
       "<Figure size 576x396 with 2 Axes>"
      ]
     },
     "metadata": {
      "needs_background": "light"
     },
     "output_type": "display_data"
    }
   ],
   "source": [
    "# Se visualizan las 10 variables que más influyen en las predicciones del cultivo de soja tipo 1 ('S')\n",
    "shap.summary_plot(shap_values[0], X_test, max_display=10)"
   ]
  },
  {
   "cell_type": "code",
   "execution_count": 55,
   "metadata": {},
   "outputs": [
    {
     "data": {
      "image/png": "[encoded data removed]",
      "text/plain": [
       "<Figure size 576x396 with 2 Axes>"
      ]
     },
     "metadata": {
      "needs_background": "light"
     },
     "output_type": "display_data"
    }
   ],
   "source": [
    "# Se imprimen las 10 variables más importantes que podrían ayudar a identificar el cultivo de girasol ('G')\n",
    "shap.summary_plot(shap_values[12], X_test, max_display=10)"
   ]
  },
  {
   "cell_type": "markdown",
   "metadata": {},
   "source": [
    "**La razón por la que se descargaron todas las imágenes de los satélites y se empleó un período de año a año (septiembre-agosto) para cada campaña es porque se pretendía generar variables que a través de la tendencia de los valores de las bandas o los índices ambientales le permitan reconocer al modelo por su cuenta los ciclos de los cultivos**. Por ejemplo, se pensó que una reducción repentina en el valor del *NDVI* de una semana a otra podría indicar la cosecha del cultivo. Si bien no se crearon variables de tendencia explícitamente como la pendiente de un polinomio de primer grado se esperaba que las 'features rodantes' aporten algo de información al modelo en ese sentido. \n",
    "\n",
    "**Los valores shapley sugieren que no son tan relevantes las variables rodantes agregadas (...roll_min', '...roll_max', etc.)**. Quedará pendiente revisar y profundizar los resultados obtenidos para ver si los datos de tendencias efectivamente son capaces de enriquecer un modelo de clasificación de cultivos. También, con estos resultados se debería evaluar si el ciclo anual elegido para cada campaña (septiembre-agosto) es el más apropiado.\n",
    "\n",
    "Se seleccionan y analizan algunas de las variables indicadas como importantes para el `globalid` = 1 y el satélite *Landsat 8*."
   ]
  },
  {
   "cell_type": "code",
   "execution_count": 56,
   "metadata": {},
   "outputs": [
    {
     "data": {
      "text/html": [
       "<div>\n",
       "<style scoped>\n",
       "    .dataframe tbody tr th:only-of-type {\n",
       "        vertical-align: middle;\n",
       "    }\n",
       "\n",
       "    .dataframe tbody tr th {\n",
       "        vertical-align: top;\n",
       "    }\n",
       "\n",
       "    .dataframe thead th {\n",
       "        text-align: right;\n",
       "    }\n",
       "</style>\n",
       "<table border=\"1\" class=\"dataframe\">\n",
       "  <thead>\n",
       "    <tr style=\"text-align: right;\">\n",
       "      <th></th>\n",
       "      <th>globalid</th>\n",
       "      <th>cultivo</th>\n",
       "      <th>satelite</th>\n",
       "      <th>time_lag</th>\n",
       "      <th>VH_std</th>\n",
       "      <th>slavi_mean</th>\n",
       "      <th>ndwi2_mean</th>\n",
       "      <th>VH_max</th>\n",
       "      <th>VV_std</th>\n",
       "    </tr>\n",
       "  </thead>\n",
       "  <tbody>\n",
       "    <tr>\n",
       "      <th>0</th>\n",
       "      <td>1</td>\n",
       "      <td>0</td>\n",
       "      <td>0</td>\n",
       "      <td>343</td>\n",
       "      <td>0.015682</td>\n",
       "      <td>0.00566</td>\n",
       "      <td>0.001036</td>\n",
       "      <td>-0.038629</td>\n",
       "      <td>0.01146</td>\n",
       "    </tr>\n",
       "    <tr>\n",
       "      <th>1</th>\n",
       "      <td>1</td>\n",
       "      <td>0</td>\n",
       "      <td>0</td>\n",
       "      <td>343</td>\n",
       "      <td>0.015682</td>\n",
       "      <td>0.00566</td>\n",
       "      <td>0.001036</td>\n",
       "      <td>-0.038629</td>\n",
       "      <td>0.01146</td>\n",
       "    </tr>\n",
       "    <tr>\n",
       "      <th>2</th>\n",
       "      <td>1</td>\n",
       "      <td>0</td>\n",
       "      <td>0</td>\n",
       "      <td>343</td>\n",
       "      <td>0.015682</td>\n",
       "      <td>0.00566</td>\n",
       "      <td>0.001036</td>\n",
       "      <td>-0.038629</td>\n",
       "      <td>0.01146</td>\n",
       "    </tr>\n",
       "    <tr>\n",
       "      <th>3</th>\n",
       "      <td>1</td>\n",
       "      <td>0</td>\n",
       "      <td>0</td>\n",
       "      <td>343</td>\n",
       "      <td>0.015682</td>\n",
       "      <td>0.00566</td>\n",
       "      <td>0.001036</td>\n",
       "      <td>-0.038629</td>\n",
       "      <td>0.01146</td>\n",
       "    </tr>\n",
       "    <tr>\n",
       "      <th>4</th>\n",
       "      <td>1</td>\n",
       "      <td>0</td>\n",
       "      <td>0</td>\n",
       "      <td>343</td>\n",
       "      <td>0.015682</td>\n",
       "      <td>0.00566</td>\n",
       "      <td>0.001036</td>\n",
       "      <td>-0.038629</td>\n",
       "      <td>0.01146</td>\n",
       "    </tr>\n",
       "    <tr>\n",
       "      <th>5</th>\n",
       "      <td>1</td>\n",
       "      <td>0</td>\n",
       "      <td>0</td>\n",
       "      <td>343</td>\n",
       "      <td>0.015682</td>\n",
       "      <td>0.00566</td>\n",
       "      <td>0.001036</td>\n",
       "      <td>-0.038629</td>\n",
       "      <td>0.01146</td>\n",
       "    </tr>\n",
       "    <tr>\n",
       "      <th>6</th>\n",
       "      <td>1</td>\n",
       "      <td>0</td>\n",
       "      <td>0</td>\n",
       "      <td>343</td>\n",
       "      <td>0.015682</td>\n",
       "      <td>0.00566</td>\n",
       "      <td>0.001036</td>\n",
       "      <td>-0.038629</td>\n",
       "      <td>0.01146</td>\n",
       "    </tr>\n",
       "    <tr>\n",
       "      <th>7</th>\n",
       "      <td>1</td>\n",
       "      <td>0</td>\n",
       "      <td>0</td>\n",
       "      <td>343</td>\n",
       "      <td>0.015682</td>\n",
       "      <td>0.00566</td>\n",
       "      <td>0.001036</td>\n",
       "      <td>-0.038629</td>\n",
       "      <td>0.01146</td>\n",
       "    </tr>\n",
       "    <tr>\n",
       "      <th>8</th>\n",
       "      <td>1</td>\n",
       "      <td>0</td>\n",
       "      <td>0</td>\n",
       "      <td>343</td>\n",
       "      <td>0.015682</td>\n",
       "      <td>0.00566</td>\n",
       "      <td>0.001036</td>\n",
       "      <td>-0.038629</td>\n",
       "      <td>0.01146</td>\n",
       "    </tr>\n",
       "    <tr>\n",
       "      <th>9</th>\n",
       "      <td>1</td>\n",
       "      <td>0</td>\n",
       "      <td>0</td>\n",
       "      <td>343</td>\n",
       "      <td>0.015682</td>\n",
       "      <td>0.00566</td>\n",
       "      <td>0.001036</td>\n",
       "      <td>-0.038629</td>\n",
       "      <td>0.01146</td>\n",
       "    </tr>\n",
       "  </tbody>\n",
       "</table>\n",
       "</div>"
      ],
      "text/plain": [
       "   globalid  cultivo  satelite  time_lag    VH_std  slavi_mean  ndwi2_mean  \\\n",
       "0         1        0         0       343  0.015682     0.00566    0.001036   \n",
       "1         1        0         0       343  0.015682     0.00566    0.001036   \n",
       "2         1        0         0       343  0.015682     0.00566    0.001036   \n",
       "3         1        0         0       343  0.015682     0.00566    0.001036   \n",
       "4         1        0         0       343  0.015682     0.00566    0.001036   \n",
       "5         1        0         0       343  0.015682     0.00566    0.001036   \n",
       "6         1        0         0       343  0.015682     0.00566    0.001036   \n",
       "7         1        0         0       343  0.015682     0.00566    0.001036   \n",
       "8         1        0         0       343  0.015682     0.00566    0.001036   \n",
       "9         1        0         0       343  0.015682     0.00566    0.001036   \n",
       "\n",
       "     VH_max   VV_std  \n",
       "0 -0.038629  0.01146  \n",
       "1 -0.038629  0.01146  \n",
       "2 -0.038629  0.01146  \n",
       "3 -0.038629  0.01146  \n",
       "4 -0.038629  0.01146  \n",
       "5 -0.038629  0.01146  \n",
       "6 -0.038629  0.01146  \n",
       "7 -0.038629  0.01146  \n",
       "8 -0.038629  0.01146  \n",
       "9 -0.038629  0.01146  "
      ]
     },
     "execution_count": 56,
     "metadata": {},
     "output_type": "execute_result"
    }
   ],
   "source": [
    "# Selección de algunas variables importantes\n",
    "train[(train[\"globalid\"] == 1) & (train[\"satelite\"] == 0)][\n",
    "    [\n",
    "        \"globalid\",\n",
    "        \"cultivo\",\n",
    "        \"satelite\",\n",
    "        \"time_lag\",\n",
    "        \"VH_std\",\n",
    "        \"slavi_mean\",\n",
    "        \"ndwi2_mean\",\n",
    "        \"VH_max\",\n",
    "        \"VV_std\",\n",
    "    ]\n",
    "].head(10)"
   ]
  },
  {
   "cell_type": "markdown",
   "metadata": {},
   "source": [
    "Lo que se observa en la tabla anterior, según los valores de shapley, es que **los registros de las bandas de cada imagen e índices ambientales no influyen individualmente en las predicciones tanto como lo hacen todos ellos agrupados por** `globalid` **y** `satelite` manifestados en las medidas agregadas a través de ingeniería de características ('...mean', '...min', '...max', '...std' y '...amp').\n",
    "\n",
    "Se decide aceptar lo devuelto por `shap_values` y **se avanza trabajando con las primeras 60 'variables importantes'** del dataset calculadas. Por lo tanto, como ya se adelantó, se puede simplificar la cantidad de registros por `globalid` en 3 observaciones (1 de *L8*, 1 de *S2-l2A* y 1 de *S2-l1C*)."
   ]
  },
  {
   "cell_type": "code",
   "execution_count": 57,
   "metadata": {},
   "outputs": [
    {
     "data": {
      "text/html": [
       "<div>\n",
       "<style scoped>\n",
       "    .dataframe tbody tr th:only-of-type {\n",
       "        vertical-align: middle;\n",
       "    }\n",
       "\n",
       "    .dataframe tbody tr th {\n",
       "        vertical-align: top;\n",
       "    }\n",
       "\n",
       "    .dataframe thead th {\n",
       "        text-align: right;\n",
       "    }\n",
       "</style>\n",
       "<table border=\"1\" class=\"dataframe\">\n",
       "  <thead>\n",
       "    <tr style=\"text-align: right;\">\n",
       "      <th></th>\n",
       "      <th>globalid</th>\n",
       "      <th>satelite</th>\n",
       "      <th>cultivo</th>\n",
       "      <th>time_lag</th>\n",
       "      <th>VH_std</th>\n",
       "      <th>slavi_mean</th>\n",
       "      <th>ndwi2_mean</th>\n",
       "      <th>VH_max</th>\n",
       "      <th>VV_std</th>\n",
       "    </tr>\n",
       "  </thead>\n",
       "  <tbody>\n",
       "    <tr>\n",
       "      <th>0</th>\n",
       "      <td>1</td>\n",
       "      <td>0</td>\n",
       "      <td>0</td>\n",
       "      <td>343</td>\n",
       "      <td>0.015682</td>\n",
       "      <td>0.005660</td>\n",
       "      <td>0.001036</td>\n",
       "      <td>-0.038629</td>\n",
       "      <td>0.011460</td>\n",
       "    </tr>\n",
       "    <tr>\n",
       "      <th>1</th>\n",
       "      <td>1</td>\n",
       "      <td>1</td>\n",
       "      <td>0</td>\n",
       "      <td>350</td>\n",
       "      <td>0.016622</td>\n",
       "      <td>0.004450</td>\n",
       "      <td>0.000799</td>\n",
       "      <td>-0.035179</td>\n",
       "      <td>0.011091</td>\n",
       "    </tr>\n",
       "    <tr>\n",
       "      <th>2</th>\n",
       "      <td>1</td>\n",
       "      <td>2</td>\n",
       "      <td>0</td>\n",
       "      <td>238</td>\n",
       "      <td>0.028944</td>\n",
       "      <td>0.008339</td>\n",
       "      <td>0.000837</td>\n",
       "      <td>-0.051734</td>\n",
       "      <td>0.013778</td>\n",
       "    </tr>\n",
       "  </tbody>\n",
       "</table>\n",
       "</div>"
      ],
      "text/plain": [
       "   globalid  satelite  cultivo  time_lag    VH_std  slavi_mean  ndwi2_mean  \\\n",
       "0         1         0        0       343  0.015682    0.005660    0.001036   \n",
       "1         1         1        0       350  0.016622    0.004450    0.000799   \n",
       "2         1         2        0       238  0.028944    0.008339    0.000837   \n",
       "\n",
       "     VH_max    VV_std  \n",
       "0 -0.038629  0.011460  \n",
       "1 -0.035179  0.011091  \n",
       "2 -0.051734  0.013778  "
      ]
     },
     "execution_count": 57,
     "metadata": {},
     "output_type": "execute_result"
    }
   ],
   "source": [
    "# Agrupación de variables importantes\n",
    "train[(train[\"globalid\"] == 1)][\n",
    "    [\n",
    "        \"globalid\",\n",
    "        \"cultivo\",\n",
    "        \"satelite\",\n",
    "        \"time_lag\",\n",
    "        \"VH_std\",\n",
    "        \"slavi_mean\",\n",
    "        \"ndwi2_mean\",\n",
    "        \"VH_max\",\n",
    "        \"VV_std\",\n",
    "    ]\n",
    "].groupby([\"globalid\", \"satelite\"]).mean().reset_index()"
   ]
  },
  {
   "cell_type": "markdown",
   "metadata": {},
   "source": [
    "En retrospectiva cabe preguntarse si con el criterio adoptado en el trabajo tiene sentido descargar de *GEE* la colección de imágenes completa o directamente convendría combinarlas mediante reducción (media, mediana) en una sola imagen (por satélite y nivel de corrección). \n",
    "\n",
    "Además, las agregaciones de grupo ('...min', '...mean', etc.) se calcularon en el período septiembre-agosto las cuales surgen como las variables más importantes para el modelo. **Debido a que finalmente no se emplean valores de tendencia, surge la inquietud si sería adecuado repensar el problema eligiendo otro intervalo de tiempo**, por ejemplo, diciembre-marzo dónde se espera que los valores de los índices ambientales sean mayores y así, tal vez, reducir el ruido en los datos y mejorar la clasificación. \n",
    "\n",
    "**Para el modelo final se confía en lo producido hasta el momento y se sigue adelante sin realizar cambios**."
   ]
  },
  {
   "cell_type": "markdown",
   "metadata": {},
   "source": [
    "## 5. Datos de entrada del modelo"
   ]
  },
  {
   "cell_type": "markdown",
   "metadata": {},
   "source": [
    "### 5.1. Selección de variables\n",
    "Del conjunto de datos se seleccionan algunas de las variables definidas como 'importantes'."
   ]
  },
  {
   "cell_type": "code",
   "execution_count": 58,
   "metadata": {},
   "outputs": [],
   "source": [
    "# Lista de variables importantes\n",
    "model_vars = [\n",
    "    \"globalid\",\n",
    "    \"cultivo\",\n",
    "    \"satelite\",\n",
    "    \"time_lag\",\n",
    "    \"VH_std\",\n",
    "    \"angle\",\n",
    "    \"ndwi2_mean\",\n",
    "    \"VH_max\",\n",
    "    \"VV_std\",\n",
    "    \"mndwi_std\",\n",
    "    \"VV_mean\",\n",
    "    \"VH_min\",\n",
    "    \"VV_max\",\n",
    "    \"gemi_std\",\n",
    "    \"gemi_amp\",\n",
    "    \"ndwi2_amp\",\n",
    "    \"ndwi2_std\",\n",
    "    \"VH_mean\",\n",
    "    \"tvi_min\",\n",
    "    \"slavi_min\",\n",
    "    \"VV_min\",\n",
    "    \"B4_mean\",\n",
    "    \"B11_mean\",\n",
    "    \"gemi_min\",\n",
    "    \"mndwi_amp\",\n",
    "    \"tvi_mean\",\n",
    "    \"ctvi_min\",\n",
    "    \"rvi_std\",\n",
    "    \"B1_mean\",\n",
    "    \"ctvi_mean\",\n",
    "    \"rvi_mean\",\n",
    "    \"ndwi2_min\",\n",
    "    \"VH_amp\",\n",
    "    \"B4_min\",\n",
    "    \"slavi_mean\",\n",
    "    \"slavi_std\",\n",
    "    \"tvi_max\",\n",
    "    \"tvi_std\",\n",
    "    \"B5_mean\",\n",
    "    \"ctvi_amp\",\n",
    "    \"ndwi2_max\",\n",
    "    \"B9_min\",\n",
    "    \"gemi_mean\",\n",
    "    \"B11_std\",\n",
    "    \"rvi_min\",\n",
    "    \"ctvi_std\",\n",
    "    \"savi_mean\",\n",
    "    \"B3_min\",\n",
    "    \"mndwi_min\",\n",
    "    \"B7_min\",\n",
    "    \"savi_std\",\n",
    "    \"B11_min\",\n",
    "    \"B7_mean\",\n",
    "    \"B12_amp\",\n",
    "    \"B5_min\",\n",
    "    \"B3_max\",\n",
    "    \"rvi_max\",\n",
    "    \"B8_min\",\n",
    "    \"B1_min\",\n",
    "    \"B3_amp\",\n",
    "    \"B12_min\",\n",
    "    \"rvi_amp\",\n",
    "    \"B1_std\",\n",
    "]"
   ]
  },
  {
   "cell_type": "code",
   "execution_count": 59,
   "metadata": {},
   "outputs": [
    {
     "data": {
      "text/plain": [
       "(93924, 63)"
      ]
     },
     "execution_count": 59,
     "metadata": {},
     "output_type": "execute_result"
    }
   ],
   "source": [
    "# Se filtran las columnas importantes en train y test\n",
    "train_var_select = train[[c for c in train.columns if c in model_vars]]\n",
    "test_var_select = test[[c for c in train.columns if c in model_vars]]\n",
    "\n",
    "train_var_select.shape"
   ]
  },
  {
   "cell_type": "code",
   "execution_count": 60,
   "metadata": {},
   "outputs": [
    {
     "data": {
      "text/html": [
       "<div>\n",
       "<style scoped>\n",
       "    .dataframe tbody tr th:only-of-type {\n",
       "        vertical-align: middle;\n",
       "    }\n",
       "\n",
       "    .dataframe tbody tr th {\n",
       "        vertical-align: top;\n",
       "    }\n",
       "\n",
       "    .dataframe thead th {\n",
       "        text-align: right;\n",
       "    }\n",
       "</style>\n",
       "<table border=\"1\" class=\"dataframe\">\n",
       "  <thead>\n",
       "    <tr style=\"text-align: right;\">\n",
       "      <th></th>\n",
       "      <th>globalid</th>\n",
       "      <th>cultivo</th>\n",
       "      <th>satelite</th>\n",
       "      <th>angle</th>\n",
       "      <th>time_lag</th>\n",
       "      <th>B1_mean</th>\n",
       "      <th>B1_min</th>\n",
       "      <th>B1_std</th>\n",
       "      <th>B3_min</th>\n",
       "      <th>B3_max</th>\n",
       "      <th>B3_amp</th>\n",
       "      <th>B4_mean</th>\n",
       "      <th>B4_min</th>\n",
       "      <th>B5_mean</th>\n",
       "    </tr>\n",
       "  </thead>\n",
       "  <tbody>\n",
       "    <tr>\n",
       "      <th>0</th>\n",
       "      <td>1</td>\n",
       "      <td>0</td>\n",
       "      <td>0</td>\n",
       "      <td>41.442062</td>\n",
       "      <td>343</td>\n",
       "      <td>1.962497</td>\n",
       "      <td>0.370262</td>\n",
       "      <td>2.419895</td>\n",
       "      <td>1.304665</td>\n",
       "      <td>11.950437</td>\n",
       "      <td>10.645773</td>\n",
       "      <td>3.137689</td>\n",
       "      <td>0.715743</td>\n",
       "      <td>10.189438</td>\n",
       "    </tr>\n",
       "    <tr>\n",
       "      <th>1</th>\n",
       "      <td>1</td>\n",
       "      <td>0</td>\n",
       "      <td>0</td>\n",
       "      <td>35.690531</td>\n",
       "      <td>343</td>\n",
       "      <td>1.962497</td>\n",
       "      <td>0.370262</td>\n",
       "      <td>2.419895</td>\n",
       "      <td>1.304665</td>\n",
       "      <td>11.950437</td>\n",
       "      <td>10.645773</td>\n",
       "      <td>3.137689</td>\n",
       "      <td>0.715743</td>\n",
       "      <td>10.189438</td>\n",
       "    </tr>\n",
       "    <tr>\n",
       "      <th>2</th>\n",
       "      <td>1</td>\n",
       "      <td>0</td>\n",
       "      <td>0</td>\n",
       "      <td>35.691539</td>\n",
       "      <td>343</td>\n",
       "      <td>1.962497</td>\n",
       "      <td>0.370262</td>\n",
       "      <td>2.419895</td>\n",
       "      <td>1.304665</td>\n",
       "      <td>11.950437</td>\n",
       "      <td>10.645773</td>\n",
       "      <td>3.137689</td>\n",
       "      <td>0.715743</td>\n",
       "      <td>10.189438</td>\n",
       "    </tr>\n",
       "    <tr>\n",
       "      <th>3</th>\n",
       "      <td>1</td>\n",
       "      <td>0</td>\n",
       "      <td>0</td>\n",
       "      <td>NaN</td>\n",
       "      <td>343</td>\n",
       "      <td>1.962497</td>\n",
       "      <td>0.370262</td>\n",
       "      <td>2.419895</td>\n",
       "      <td>1.304665</td>\n",
       "      <td>11.950437</td>\n",
       "      <td>10.645773</td>\n",
       "      <td>3.137689</td>\n",
       "      <td>0.715743</td>\n",
       "      <td>10.189438</td>\n",
       "    </tr>\n",
       "    <tr>\n",
       "      <th>4</th>\n",
       "      <td>1</td>\n",
       "      <td>0</td>\n",
       "      <td>0</td>\n",
       "      <td>35.692444</td>\n",
       "      <td>343</td>\n",
       "      <td>1.962497</td>\n",
       "      <td>0.370262</td>\n",
       "      <td>2.419895</td>\n",
       "      <td>1.304665</td>\n",
       "      <td>11.950437</td>\n",
       "      <td>10.645773</td>\n",
       "      <td>3.137689</td>\n",
       "      <td>0.715743</td>\n",
       "      <td>10.189438</td>\n",
       "    </tr>\n",
       "  </tbody>\n",
       "</table>\n",
       "</div>"
      ],
      "text/plain": [
       "   globalid  cultivo  satelite      angle  time_lag   B1_mean    B1_min  \\\n",
       "0         1        0         0  41.442062       343  1.962497  0.370262   \n",
       "1         1        0         0  35.690531       343  1.962497  0.370262   \n",
       "2         1        0         0  35.691539       343  1.962497  0.370262   \n",
       "3         1        0         0        NaN       343  1.962497  0.370262   \n",
       "4         1        0         0  35.692444       343  1.962497  0.370262   \n",
       "\n",
       "     B1_std    B3_min     B3_max     B3_amp   B4_mean    B4_min    B5_mean  \n",
       "0  2.419895  1.304665  11.950437  10.645773  3.137689  0.715743  10.189438  \n",
       "1  2.419895  1.304665  11.950437  10.645773  3.137689  0.715743  10.189438  \n",
       "2  2.419895  1.304665  11.950437  10.645773  3.137689  0.715743  10.189438  \n",
       "3  2.419895  1.304665  11.950437  10.645773  3.137689  0.715743  10.189438  \n",
       "4  2.419895  1.304665  11.950437  10.645773  3.137689  0.715743  10.189438  "
      ]
     },
     "execution_count": 60,
     "metadata": {},
     "output_type": "execute_result"
    }
   ],
   "source": [
    "# Vista previa de train\n",
    "train_var_select[train_var_select['globalid'] == 1].iloc[0:5, 0:14]"
   ]
  },
  {
   "cell_type": "markdown",
   "metadata": {},
   "source": [
    "Se reducen los registros de cada `globalid` a 3 filas, 1 por satélite."
   ]
  },
  {
   "cell_type": "code",
   "execution_count": 61,
   "metadata": {},
   "outputs": [],
   "source": [
    "# Se agrupan los registros por 'globalid' y 'satelite' mediante el promedio\n",
    "train_model = train_var_select.groupby([\"globalid\", \"satelite\"]).mean().reset_index()\n",
    "test_model = test_var_select.groupby([\"globalid\", \"satelite\"]).mean().reset_index()"
   ]
  },
  {
   "cell_type": "code",
   "execution_count": 62,
   "metadata": {},
   "outputs": [
    {
     "data": {
      "text/html": [
       "<div>\n",
       "<style scoped>\n",
       "    .dataframe tbody tr th:only-of-type {\n",
       "        vertical-align: middle;\n",
       "    }\n",
       "\n",
       "    .dataframe tbody tr th {\n",
       "        vertical-align: top;\n",
       "    }\n",
       "\n",
       "    .dataframe thead th {\n",
       "        text-align: right;\n",
       "    }\n",
       "</style>\n",
       "<table border=\"1\" class=\"dataframe\">\n",
       "  <thead>\n",
       "    <tr style=\"text-align: right;\">\n",
       "      <th></th>\n",
       "      <th>globalid</th>\n",
       "      <th>satelite</th>\n",
       "      <th>cultivo</th>\n",
       "      <th>angle</th>\n",
       "      <th>time_lag</th>\n",
       "      <th>B1_mean</th>\n",
       "      <th>B1_min</th>\n",
       "      <th>B1_std</th>\n",
       "      <th>B3_min</th>\n",
       "      <th>B3_max</th>\n",
       "      <th>B3_amp</th>\n",
       "      <th>B4_mean</th>\n",
       "      <th>B4_min</th>\n",
       "      <th>B5_mean</th>\n",
       "    </tr>\n",
       "  </thead>\n",
       "  <tbody>\n",
       "    <tr>\n",
       "      <th>0</th>\n",
       "      <td>1</td>\n",
       "      <td>0</td>\n",
       "      <td>0</td>\n",
       "      <td>36.013251</td>\n",
       "      <td>343</td>\n",
       "      <td>1.962497</td>\n",
       "      <td>0.370262</td>\n",
       "      <td>2.419895</td>\n",
       "      <td>1.304665</td>\n",
       "      <td>11.950437</td>\n",
       "      <td>10.645773</td>\n",
       "      <td>3.137689</td>\n",
       "      <td>0.715743</td>\n",
       "      <td>10.189438</td>\n",
       "    </tr>\n",
       "    <tr>\n",
       "      <th>1</th>\n",
       "      <td>1</td>\n",
       "      <td>1</td>\n",
       "      <td>0</td>\n",
       "      <td>35.215152</td>\n",
       "      <td>350</td>\n",
       "      <td>3.862335</td>\n",
       "      <td>3.030000</td>\n",
       "      <td>0.551112</td>\n",
       "      <td>1.842857</td>\n",
       "      <td>4.897143</td>\n",
       "      <td>3.054286</td>\n",
       "      <td>3.129877</td>\n",
       "      <td>0.981429</td>\n",
       "      <td>3.897773</td>\n",
       "    </tr>\n",
       "    <tr>\n",
       "      <th>2</th>\n",
       "      <td>1</td>\n",
       "      <td>2</td>\n",
       "      <td>0</td>\n",
       "      <td>34.975502</td>\n",
       "      <td>238</td>\n",
       "      <td>1.233660</td>\n",
       "      <td>0.004202</td>\n",
       "      <td>0.982246</td>\n",
       "      <td>1.138655</td>\n",
       "      <td>6.151261</td>\n",
       "      <td>5.012605</td>\n",
       "      <td>4.009004</td>\n",
       "      <td>0.336134</td>\n",
       "      <td>5.836668</td>\n",
       "    </tr>\n",
       "  </tbody>\n",
       "</table>\n",
       "</div>"
      ],
      "text/plain": [
       "   globalid  satelite  cultivo      angle  time_lag   B1_mean    B1_min  \\\n",
       "0         1         0        0  36.013251       343  1.962497  0.370262   \n",
       "1         1         1        0  35.215152       350  3.862335  3.030000   \n",
       "2         1         2        0  34.975502       238  1.233660  0.004202   \n",
       "\n",
       "     B1_std    B3_min     B3_max     B3_amp   B4_mean    B4_min    B5_mean  \n",
       "0  2.419895  1.304665  11.950437  10.645773  3.137689  0.715743  10.189438  \n",
       "1  0.551112  1.842857   4.897143   3.054286  3.129877  0.981429   3.897773  \n",
       "2  0.982246  1.138655   6.151261   5.012605  4.009004  0.336134   5.836668  "
      ]
     },
     "execution_count": 62,
     "metadata": {},
     "output_type": "execute_result"
    }
   ],
   "source": [
    "# Vista previa del 'globalid' 1 en train\n",
    "train_model[train_model[\"globalid\"] == 1].iloc[:, 0:14]"
   ]
  },
  {
   "cell_type": "code",
   "execution_count": 63,
   "metadata": {},
   "outputs": [
    {
     "data": {
      "text/html": [
       "<div>\n",
       "<style scoped>\n",
       "    .dataframe tbody tr th:only-of-type {\n",
       "        vertical-align: middle;\n",
       "    }\n",
       "\n",
       "    .dataframe tbody tr th {\n",
       "        vertical-align: top;\n",
       "    }\n",
       "\n",
       "    .dataframe thead th {\n",
       "        text-align: right;\n",
       "    }\n",
       "</style>\n",
       "<table border=\"1\" class=\"dataframe\">\n",
       "  <thead>\n",
       "    <tr style=\"text-align: right;\">\n",
       "      <th></th>\n",
       "      <th>globalid</th>\n",
       "      <th>satelite</th>\n",
       "      <th>cultivo</th>\n",
       "      <th>angle</th>\n",
       "      <th>time_lag</th>\n",
       "      <th>B1_mean</th>\n",
       "      <th>B1_min</th>\n",
       "      <th>B1_std</th>\n",
       "      <th>B3_min</th>\n",
       "      <th>B3_max</th>\n",
       "      <th>B3_amp</th>\n",
       "      <th>B4_mean</th>\n",
       "      <th>B4_min</th>\n",
       "      <th>B5_mean</th>\n",
       "    </tr>\n",
       "  </thead>\n",
       "  <tbody>\n",
       "    <tr>\n",
       "      <th>0</th>\n",
       "      <td>2</td>\n",
       "      <td>0</td>\n",
       "      <td>NaN</td>\n",
       "      <td>36.040569</td>\n",
       "      <td>343</td>\n",
       "      <td>2.412868</td>\n",
       "      <td>0.332362</td>\n",
       "      <td>2.726039</td>\n",
       "      <td>1.029155</td>\n",
       "      <td>11.469388</td>\n",
       "      <td>10.440233</td>\n",
       "      <td>3.798635</td>\n",
       "      <td>0.690962</td>\n",
       "      <td>8.769944</td>\n",
       "    </tr>\n",
       "    <tr>\n",
       "      <th>1</th>\n",
       "      <td>2</td>\n",
       "      <td>1</td>\n",
       "      <td>NaN</td>\n",
       "      <td>35.240862</td>\n",
       "      <td>350</td>\n",
       "      <td>4.340292</td>\n",
       "      <td>2.917143</td>\n",
       "      <td>2.797969</td>\n",
       "      <td>1.937143</td>\n",
       "      <td>18.848571</td>\n",
       "      <td>16.911429</td>\n",
       "      <td>3.513917</td>\n",
       "      <td>1.177143</td>\n",
       "      <td>4.147588</td>\n",
       "    </tr>\n",
       "    <tr>\n",
       "      <th>2</th>\n",
       "      <td>2</td>\n",
       "      <td>2</td>\n",
       "      <td>NaN</td>\n",
       "      <td>35.000753</td>\n",
       "      <td>238</td>\n",
       "      <td>1.202614</td>\n",
       "      <td>0.214286</td>\n",
       "      <td>0.727903</td>\n",
       "      <td>1.445378</td>\n",
       "      <td>5.899160</td>\n",
       "      <td>4.453782</td>\n",
       "      <td>4.232193</td>\n",
       "      <td>0.586134</td>\n",
       "      <td>5.928438</td>\n",
       "    </tr>\n",
       "  </tbody>\n",
       "</table>\n",
       "</div>"
      ],
      "text/plain": [
       "   globalid  satelite  cultivo      angle  time_lag   B1_mean    B1_min  \\\n",
       "0         2         0      NaN  36.040569       343  2.412868  0.332362   \n",
       "1         2         1      NaN  35.240862       350  4.340292  2.917143   \n",
       "2         2         2      NaN  35.000753       238  1.202614  0.214286   \n",
       "\n",
       "     B1_std    B3_min     B3_max     B3_amp   B4_mean    B4_min   B5_mean  \n",
       "0  2.726039  1.029155  11.469388  10.440233  3.798635  0.690962  8.769944  \n",
       "1  2.797969  1.937143  18.848571  16.911429  3.513917  1.177143  4.147588  \n",
       "2  0.727903  1.445378   5.899160   4.453782  4.232193  0.586134  5.928438  "
      ]
     },
     "execution_count": 63,
     "metadata": {},
     "output_type": "execute_result"
    }
   ],
   "source": [
    "# Vista previa del 'globalid' 2 en test\n",
    "test_model[test_model[\"globalid\"] == 2].iloc[:, 0:14]"
   ]
  },
  {
   "cell_type": "markdown",
   "metadata": {},
   "source": [
    "### 5.1. Se guardan los datos de entrada del modelo"
   ]
  },
  {
   "cell_type": "code",
   "execution_count": 64,
   "metadata": {},
   "outputs": [],
   "source": [
    "# Train\n",
    "pd.DataFrame.to_csv(\n",
    "    train_model, os.path.join(MODEL_INPUT, \"train_model_lgbm_02_141220.csv\"), index=False\n",
    ")\n",
    "\n",
    "# Test\n",
    "pd.DataFrame.to_csv(\n",
    "    train_model, os.path.join(MODEL_INPUT, \"test_model_lgbm_02_141220.csv\"), index=False\n",
    ")"
   ]
  },
  {
   "cell_type": "code",
   "execution_count": 65,
   "metadata": {},
   "outputs": [
    {
     "data": {
      "text/plain": [
       "(4221, 63)"
      ]
     },
     "execution_count": 65,
     "metadata": {},
     "output_type": "execute_result"
    }
   ],
   "source": [
    "train_model.shape"
   ]
  },
  {
   "cell_type": "code",
   "execution_count": 66,
   "metadata": {},
   "outputs": [
    {
     "data": {
      "text/plain": [
       "(1665, 63)"
      ]
     },
     "execution_count": 66,
     "metadata": {},
     "output_type": "execute_result"
    }
   ],
   "source": [
    "test_model.shape"
   ]
  },
  {
   "cell_type": "markdown",
   "metadata": {},
   "source": [
    "## 6. Modelo de clasificación propuesto\n",
    "\n",
    "### 6.1. Entrenamiento del modelo\n",
    "\n",
    "Para la clasificación de los cultivos se elige un algoritmo de Gradient Boosting (*Lightgbm*). Se preparan los datos de entrenamiento y se ajusta el modelo propuesto."
   ]
  },
  {
   "cell_type": "code",
   "execution_count": 67,
   "metadata": {},
   "outputs": [],
   "source": [
    "# Se preparan los datos de train y test\n",
    "X_train_model = train_model.drop([\"globalid\", \"cultivo\"], axis=1)\n",
    "y_train_model = train_model[[\"cultivo\"]]\n",
    "\n",
    "X_test_model = test_model.drop([\"globalid\", \"cultivo\"], axis=1)"
   ]
  },
  {
   "cell_type": "code",
   "execution_count": 68,
   "metadata": {},
   "outputs": [
    {
     "data": {
      "text/plain": [
       "(4221, 61)"
      ]
     },
     "execution_count": 68,
     "metadata": {},
     "output_type": "execute_result"
    }
   ],
   "source": [
    "X_train_model.shape"
   ]
  },
  {
   "cell_type": "code",
   "execution_count": 69,
   "metadata": {},
   "outputs": [
    {
     "data": {
      "text/plain": [
       "(1665, 61)"
      ]
     },
     "execution_count": 69,
     "metadata": {},
     "output_type": "execute_result"
    }
   ],
   "source": [
    "X_test_model.shape"
   ]
  },
  {
   "cell_type": "code",
   "execution_count": 70,
   "metadata": {},
   "outputs": [
    {
     "data": {
      "text/plain": [
       "['D:\\\\Proyectos\\\\DesafioAgTech2020\\\\resultado/lgbm_classifier_02_141220.pkl']"
      ]
     },
     "execution_count": 70,
     "metadata": {},
     "output_type": "execute_result"
    }
   ],
   "source": [
    "# Formato lightgbm\n",
    "dtrain_model = lgb.Dataset(X_train_model, y_train_model)\n",
    "\n",
    "# Parámetros elegidos para el modelo\n",
    "# Mantener 'seed' = 124 y 'num_threads' = 4 para garantizar la reproducibilidad \n",
    "params_model = {\n",
    "    \"boosting_type\": \"goss\",\n",
    "    \"objective\": \"multiclass\",\n",
    "    \"num_class\": 14,\n",
    "    \"boost_from_average\": True,\n",
    "    \"feature_fraction\": 0.3,\n",
    "    \"learning_rate\": 0.065,\n",
    "    \"max_bin\": 21,\n",
    "    \"min_data_in_leaf\": 67,\n",
    "    \"min_gain_to_split\": 0,\n",
    "    \"num_leaves\": 379,\n",
    "    \"other_rate\": 0.01,\n",
    "    \"top_rate\": 0.5,\n",
    "    \"seed\": 124,\n",
    "    \"num_threads\": 4,\n",
    "    \"verbosity\": -1,\n",
    "}\n",
    "\n",
    "# Entrenamiento\n",
    "bst_model = lgb.train(params=params_model, train_set=dtrain_model, num_boost_round=1088)\n",
    "\n",
    "# Se guarda el modelo\n",
    "joblib.dump(bst_model, os.path.join(MODEL_OUTPUT,'lgbm_classifier_02_141220.pkl'))\n",
    "\n",
    "# Se carga el modelo guardado\n",
    "# bst_model = joblib.load(os.path.join(MODEL_OUTPUT,'lgbm_classifier_02_141220.pkl'))"
   ]
  },
  {
   "cell_type": "markdown",
   "metadata": {},
   "source": [
    "### 6.2. Clasificación de los cultivos\n",
    "Con el modelo entrenado se realizan las predicciones de los registros del conjunto de evaluación."
   ]
  },
  {
   "cell_type": "code",
   "execution_count": 71,
   "metadata": {},
   "outputs": [],
   "source": [
    "# Predicciones sobre test\n",
    "y_pred_model = bst_model.predict(X_test_model)\n",
    "\n",
    "# Se agrega el 'globalid' correspondiente a las predicciones\n",
    "df_pred = pd.concat([test_model[\"globalid\"], pd.DataFrame(y_pred_model)], axis=1)\n",
    "\n",
    "# Se agrupan sumando los valores de las probabilidades\n",
    "df_pred = df_pred.groupby(\"globalid\").sum()\n",
    "\n",
    "# Se considera que la mayor probabilidad de cada registro define la clase de cultivo\n",
    "y_pred_max = df_pred.idxmax(axis=1).reset_index()\n",
    "y_pred_max.columns = [\"globalid\", \"cultivo\"]"
   ]
  },
  {
   "cell_type": "code",
   "execution_count": 72,
   "metadata": {},
   "outputs": [
    {
     "data": {
      "text/html": [
       "<div>\n",
       "<style scoped>\n",
       "    .dataframe tbody tr th:only-of-type {\n",
       "        vertical-align: middle;\n",
       "    }\n",
       "\n",
       "    .dataframe tbody tr th {\n",
       "        vertical-align: top;\n",
       "    }\n",
       "\n",
       "    .dataframe thead th {\n",
       "        text-align: right;\n",
       "    }\n",
       "</style>\n",
       "<table border=\"1\" class=\"dataframe\">\n",
       "  <thead>\n",
       "    <tr style=\"text-align: right;\">\n",
       "      <th></th>\n",
       "      <th>globalid</th>\n",
       "      <th>cultivo</th>\n",
       "    </tr>\n",
       "  </thead>\n",
       "  <tbody>\n",
       "    <tr>\n",
       "      <th>0</th>\n",
       "      <td>2</td>\n",
       "      <td>1</td>\n",
       "    </tr>\n",
       "    <tr>\n",
       "      <th>1</th>\n",
       "      <td>3</td>\n",
       "      <td>1</td>\n",
       "    </tr>\n",
       "    <tr>\n",
       "      <th>2</th>\n",
       "      <td>5</td>\n",
       "      <td>1</td>\n",
       "    </tr>\n",
       "    <tr>\n",
       "      <th>3</th>\n",
       "      <td>8</td>\n",
       "      <td>6</td>\n",
       "    </tr>\n",
       "    <tr>\n",
       "      <th>4</th>\n",
       "      <td>11</td>\n",
       "      <td>6</td>\n",
       "    </tr>\n",
       "  </tbody>\n",
       "</table>\n",
       "</div>"
      ],
      "text/plain": [
       "   globalid  cultivo\n",
       "0         2        1\n",
       "1         3        1\n",
       "2         5        1\n",
       "3         8        6\n",
       "4        11        6"
      ]
     },
     "execution_count": 72,
     "metadata": {},
     "output_type": "execute_result"
    }
   ],
   "source": [
    "# Vista d predia de las predicciones obtenidas\n",
    "y_pred_max.head()"
   ]
  },
  {
   "cell_type": "markdown",
   "metadata": {},
   "source": [
    "Los valores de las predicciones (números enteros) se remapean con los valores de `cultivoid` que les corresponden."
   ]
  },
  {
   "cell_type": "code",
   "execution_count": 73,
   "metadata": {},
   "outputs": [
    {
     "data": {
      "text/plain": [
       "{0: 'S',\n",
       " 1: 'M',\n",
       " 2: 'U',\n",
       " 3: 'B',\n",
       " 4: 'R',\n",
       " 5: 's',\n",
       " 6: 'N',\n",
       " 7: 'm',\n",
       " 8: 'P',\n",
       " 9: 'A',\n",
       " 10: 'X',\n",
       " 11: 'T',\n",
       " 12: 'G',\n",
       " 13: 'aa'}"
      ]
     },
     "execution_count": 73,
     "metadata": {},
     "output_type": "execute_result"
    }
   ],
   "source": [
    "# Primero se remapea a la variable 'cultivo'\n",
    "cultivo_id = {v: k for k, v in cultivo_num.items()}\n",
    "cultivo_id"
   ]
  },
  {
   "cell_type": "code",
   "execution_count": 74,
   "metadata": {},
   "outputs": [
    {
     "data": {
      "text/html": [
       "<div>\n",
       "<style scoped>\n",
       "    .dataframe tbody tr th:only-of-type {\n",
       "        vertical-align: middle;\n",
       "    }\n",
       "\n",
       "    .dataframe tbody tr th {\n",
       "        vertical-align: top;\n",
       "    }\n",
       "\n",
       "    .dataframe thead th {\n",
       "        text-align: right;\n",
       "    }\n",
       "</style>\n",
       "<table border=\"1\" class=\"dataframe\">\n",
       "  <thead>\n",
       "    <tr style=\"text-align: right;\">\n",
       "      <th></th>\n",
       "      <th>globalid</th>\n",
       "      <th>cultivo</th>\n",
       "    </tr>\n",
       "  </thead>\n",
       "  <tbody>\n",
       "    <tr>\n",
       "      <th>0</th>\n",
       "      <td>2</td>\n",
       "      <td>M</td>\n",
       "    </tr>\n",
       "    <tr>\n",
       "      <th>1</th>\n",
       "      <td>3</td>\n",
       "      <td>M</td>\n",
       "    </tr>\n",
       "    <tr>\n",
       "      <th>2</th>\n",
       "      <td>5</td>\n",
       "      <td>M</td>\n",
       "    </tr>\n",
       "    <tr>\n",
       "      <th>3</th>\n",
       "      <td>8</td>\n",
       "      <td>N</td>\n",
       "    </tr>\n",
       "    <tr>\n",
       "      <th>4</th>\n",
       "      <td>11</td>\n",
       "      <td>N</td>\n",
       "    </tr>\n",
       "  </tbody>\n",
       "</table>\n",
       "</div>"
      ],
      "text/plain": [
       "   globalid cultivo\n",
       "0         2       M\n",
       "1         3       M\n",
       "2         5       M\n",
       "3         8       N\n",
       "4        11       N"
      ]
     },
     "execution_count": 74,
     "metadata": {},
     "output_type": "execute_result"
    }
   ],
   "source": [
    "# Vista previa de los cultivos predichos\n",
    "y_pred_max = y_pred_max.replace({\"cultivo\": cultivo_id})\n",
    "y_pred_max.head()"
   ]
  },
  {
   "cell_type": "code",
   "execution_count": 75,
   "metadata": {},
   "outputs": [
    {
     "data": {
      "text/html": [
       "<div>\n",
       "<style scoped>\n",
       "    .dataframe tbody tr th:only-of-type {\n",
       "        vertical-align: middle;\n",
       "    }\n",
       "\n",
       "    .dataframe tbody tr th {\n",
       "        vertical-align: top;\n",
       "    }\n",
       "\n",
       "    .dataframe thead th {\n",
       "        text-align: right;\n",
       "    }\n",
       "</style>\n",
       "<table border=\"1\" class=\"dataframe\">\n",
       "  <thead>\n",
       "    <tr style=\"text-align: right;\">\n",
       "      <th></th>\n",
       "      <th>globalid</th>\n",
       "      <th>cultivoid</th>\n",
       "    </tr>\n",
       "  </thead>\n",
       "  <tbody>\n",
       "    <tr>\n",
       "      <th>0</th>\n",
       "      <td>2</td>\n",
       "      <td>3</td>\n",
       "    </tr>\n",
       "    <tr>\n",
       "      <th>1</th>\n",
       "      <td>3</td>\n",
       "      <td>3</td>\n",
       "    </tr>\n",
       "    <tr>\n",
       "      <th>2</th>\n",
       "      <td>5</td>\n",
       "      <td>3</td>\n",
       "    </tr>\n",
       "    <tr>\n",
       "      <th>3</th>\n",
       "      <td>8</td>\n",
       "      <td>10</td>\n",
       "    </tr>\n",
       "    <tr>\n",
       "      <th>4</th>\n",
       "      <td>11</td>\n",
       "      <td>10</td>\n",
       "    </tr>\n",
       "  </tbody>\n",
       "</table>\n",
       "</div>"
      ],
      "text/plain": [
       "   globalid  cultivoid\n",
       "0         2          3\n",
       "1         3          3\n",
       "2         5          3\n",
       "3         8         10\n",
       "4        11         10"
      ]
     },
     "execution_count": 75,
     "metadata": {},
     "output_type": "execute_result"
    }
   ],
   "source": [
    "# Se agrega 'cultivoid' a train\n",
    "submit = pd.merge(y_pred_max, df_etiquetas, on=\"cultivo\", how=\"left\")\n",
    "\n",
    "# Se elimina lo que no se necesita\n",
    "submit = submit.drop([\"tipo\", \"cultivo\",], axis=1)\n",
    "submit.head()"
   ]
  },
  {
   "cell_type": "markdown",
   "metadata": {},
   "source": [
    "### 6.3. Submit"
   ]
  },
  {
   "cell_type": "code",
   "execution_count": 76,
   "metadata": {},
   "outputs": [],
   "source": [
    "# Submit\n",
    "pd.DataFrame.to_csv(\n",
    "    submit, os.path.join(SUBMIT, \"submit_lgbm_02_141220.csv\"), header=False, index=False\n",
    ")"
   ]
  },
  {
   "cell_type": "markdown",
   "metadata": {},
   "source": [
    "## 7. Consideraciones finales  y conclusión"
   ]
  },
  {
   "cell_type": "code",
   "execution_count": 77,
   "metadata": {},
   "outputs": [
    {
     "data": {
      "text/plain": [
       "1     252\n",
       "3     157\n",
       "2      45\n",
       "10     40\n",
       "9      35\n",
       "24     13\n",
       "15      4\n",
       "8       3\n",
       "23      2\n",
       "4       2\n",
       "19      1\n",
       "11      1\n",
       "Name: cultivoid, dtype: int64"
      ]
     },
     "execution_count": 77,
     "metadata": {},
     "output_type": "execute_result"
    }
   ],
   "source": [
    "submit[\"cultivoid\"].value_counts()"
   ]
  },
  {
   "cell_type": "markdown",
   "metadata": {},
   "source": [
    "De las 14 clases existentes en el conjunto de entrenamiento el modelo designó un total de 12 en los registros de evaluación. **A partir de la solución provista en la competencia se puede comprobar que el dataset de testeo cuenta con 11 clases únicas**."
   ]
  },
  {
   "cell_type": "code",
   "execution_count": 78,
   "metadata": {},
   "outputs": [
    {
     "data": {
      "text/html": [
       "<div>\n",
       "<style scoped>\n",
       "    .dataframe tbody tr th:only-of-type {\n",
       "        vertical-align: middle;\n",
       "    }\n",
       "\n",
       "    .dataframe tbody tr th {\n",
       "        vertical-align: top;\n",
       "    }\n",
       "\n",
       "    .dataframe thead th {\n",
       "        text-align: right;\n",
       "    }\n",
       "</style>\n",
       "<table border=\"1\" class=\"dataframe\">\n",
       "  <thead>\n",
       "    <tr style=\"text-align: right;\">\n",
       "      <th></th>\n",
       "      <th>Id</th>\n",
       "      <th>cultivo</th>\n",
       "      <th>Longitud</th>\n",
       "      <th>Latitud</th>\n",
       "      <th>Elevacion</th>\n",
       "      <th>Dataset</th>\n",
       "      <th>Campania</th>\n",
       "      <th>Clase</th>\n",
       "      <th>GlobalId</th>\n",
       "    </tr>\n",
       "  </thead>\n",
       "  <tbody>\n",
       "    <tr>\n",
       "      <th>0</th>\n",
       "      <td>2</td>\n",
       "      <td>M</td>\n",
       "      <td>-62.150971</td>\n",
       "      <td>-33.797816</td>\n",
       "      <td>104.111862</td>\n",
       "      <td>BC</td>\n",
       "      <td>18/19</td>\n",
       "      <td>NaN</td>\n",
       "      <td>2</td>\n",
       "    </tr>\n",
       "    <tr>\n",
       "      <th>1</th>\n",
       "      <td>3</td>\n",
       "      <td>M</td>\n",
       "      <td>-62.148934</td>\n",
       "      <td>-33.804243</td>\n",
       "      <td>105.698082</td>\n",
       "      <td>BC</td>\n",
       "      <td>18/19</td>\n",
       "      <td>NaN</td>\n",
       "      <td>3</td>\n",
       "    </tr>\n",
       "    <tr>\n",
       "      <th>2</th>\n",
       "      <td>5</td>\n",
       "      <td>M</td>\n",
       "      <td>-62.163801</td>\n",
       "      <td>-33.812363</td>\n",
       "      <td>104.233162</td>\n",
       "      <td>BC</td>\n",
       "      <td>18/19</td>\n",
       "      <td>NaN</td>\n",
       "      <td>5</td>\n",
       "    </tr>\n",
       "    <tr>\n",
       "      <th>3</th>\n",
       "      <td>8</td>\n",
       "      <td>N</td>\n",
       "      <td>-62.169497</td>\n",
       "      <td>-33.810439</td>\n",
       "      <td>103.859932</td>\n",
       "      <td>BC</td>\n",
       "      <td>18/19</td>\n",
       "      <td>NaN</td>\n",
       "      <td>8</td>\n",
       "    </tr>\n",
       "    <tr>\n",
       "      <th>4</th>\n",
       "      <td>11</td>\n",
       "      <td>N</td>\n",
       "      <td>-62.114892</td>\n",
       "      <td>-33.786731</td>\n",
       "      <td>101.769859</td>\n",
       "      <td>BC</td>\n",
       "      <td>18/19</td>\n",
       "      <td>NaN</td>\n",
       "      <td>11</td>\n",
       "    </tr>\n",
       "  </tbody>\n",
       "</table>\n",
       "</div>"
      ],
      "text/plain": [
       "   Id cultivo   Longitud    Latitud   Elevacion Dataset Campania  Clase  \\\n",
       "0   2       M -62.150971 -33.797816  104.111862      BC    18/19    NaN   \n",
       "1   3       M -62.148934 -33.804243  105.698082      BC    18/19    NaN   \n",
       "2   5       M -62.163801 -33.812363  104.233162      BC    18/19    NaN   \n",
       "3   8       N -62.169497 -33.810439  103.859932      BC    18/19    NaN   \n",
       "4  11       N -62.114892 -33.786731  101.769859      BC    18/19    NaN   \n",
       "\n",
       "   GlobalId  \n",
       "0         2  \n",
       "1         3  \n",
       "2         5  \n",
       "3         8  \n",
       "4        11  "
      ]
     },
     "execution_count": 78,
     "metadata": {},
     "output_type": "execute_result"
    }
   ],
   "source": [
    "# Se carga el dataset de test con las soluciones\n",
    "data_test_solucion = pd.read_csv(TEST_SOLUCION)\n",
    "\n",
    "# Se renombra la columna 'Cultivo'\n",
    "data_test_solucion.rename(columns={\"Cultivo\": \"cultivo\"}, inplace=True)\n",
    "\n",
    "data_test_solucion.head()"
   ]
  },
  {
   "cell_type": "code",
   "execution_count": 79,
   "metadata": {},
   "outputs": [
    {
     "data": {
      "text/plain": [
       "S    229\n",
       "M    140\n",
       "s     58\n",
       "N     54\n",
       "P     36\n",
       "X     22\n",
       "U      7\n",
       "R      3\n",
       "B      3\n",
       "m      2\n",
       "A      1\n",
       "Name: cultivo, dtype: int64"
      ]
     },
     "execution_count": 79,
     "metadata": {},
     "output_type": "execute_result"
    }
   ],
   "source": [
    "# Cantidad y tipos de cultivo en test\n",
    "data_test_solucion['cultivo'].value_counts()"
   ]
  },
  {
   "cell_type": "markdown",
   "metadata": {},
   "source": [
    "Se crea una matriz de confusión para evaluar la calidad del modelo final desarrollado."
   ]
  },
  {
   "cell_type": "code",
   "execution_count": 80,
   "metadata": {},
   "outputs": [
    {
     "data": {
      "image/png": "[encoded data removed]",
      "text/plain": [
       "<Figure size 1080x504 with 2 Axes>"
      ]
     },
     "metadata": {
      "needs_background": "light"
     },
     "output_type": "display_data"
    }
   ],
   "source": [
    "# Diccionario con las predicciones del modelo final y los valores reales\n",
    "df_eval = {\n",
    "    \"y_pred\": y_pred_max[\"cultivo\"].values,\n",
    "    \"y_test\": data_test_solucion[\"cultivo\"].values,\n",
    "}\n",
    "\n",
    "# Se crea un dataframe con los valores predichos y los valores reales\n",
    "df_eval = pd.DataFrame(df_eval, columns=[\"y_pred\", \"y_test\"])\n",
    "\n",
    "# Se crea una tabla cruzada para representar la matriz de confusión\n",
    "conf_matrix = pd.crosstab(\n",
    "    df_eval[\"y_test\"], df_eval[\"y_pred\"], rownames=[\"True\"], colnames=[\"Predicted\"], margins=False\n",
    ")\n",
    "\n",
    "# Se transforman los valores en porcentajes (coeficientes)\n",
    "conf_matrix = conf_matrix / conf_matrix.sum(axis=0)\n",
    "conf_matrix = round(conf_matrix, 2)\n",
    "\n",
    "# Visualización de la matriz\n",
    "plt.figure(figsize=(15, 7))\n",
    "sns.heatmap(conf_matrix, annot=True, fmt=\"g\", cmap=\"Blues\")\n",
    "plt.show()"
   ]
  },
  {
   "cell_type": "markdown",
   "metadata": {},
   "source": [
    "El modelo identificó un cultivo como alfalfa ('aa') que no existe en el dataset de evaluación y no pudo acertar el único registro de agua ('A') que hay. Además, tuvo mayores dificultades para clasificar los cultivos de maíz tardío (m) y las zonas urbanas (U). En los demás casos el desempeño mejoró alcanzando valores de hasta 80% de exactitud. \n",
    "\n",
    "Se calcula el desempeño final del modelo medido con la métrica establecida en la competencia."
   ]
  },
  {
   "cell_type": "code",
   "execution_count": 81,
   "metadata": {},
   "outputs": [
    {
     "name": "stdout",
     "output_type": "stream",
     "text": [
      "Balanced Accuracy: 0.5494666663295429\n"
     ]
    },
    {
     "name": "stderr",
     "output_type": "stream",
     "text": [
      "y_pred contains classes not in y_true\n"
     ]
    }
   ],
   "source": [
    "# Métrica de control\n",
    "balanced_accuracy_final = balanced_accuracy_score(df_eval[\"y_test\"], df_eval[\"y_pred\"])\n",
    "\n",
    "print(f\"Balanced Accuracy: {balanced_accuracy_final}\")"
   ]
  },
  {
   "cell_type": "markdown",
   "metadata": {},
   "source": [
    "Sobre el submit enviado se corrige la predicción que debió clasificarse como agua ('A') y se contrasta el cambio en la métrica usada."
   ]
  },
  {
   "cell_type": "code",
   "execution_count": 82,
   "metadata": {
    "scrolled": true
   },
   "outputs": [
    {
     "name": "stdout",
     "output_type": "stream",
     "text": [
      "Balanced Accuracy: 0.6403757572386338\n"
     ]
    }
   ],
   "source": [
    "# Se asigna la clase agua ('A') en las predicciones hechas donde corresponde según test\n",
    "# Ahora la única clase agua existente va a estar bien predicha\n",
    "df_eval[\"y_pred\"][df_eval[\"y_test\"] == \"A\"] = \"A\"\n",
    "\n",
    "# Métrica de control\n",
    "balanced_accuracy_mod = balanced_accuracy_score(df_eval[\"y_test\"], df_eval[\"y_pred\"])\n",
    "\n",
    "print(f\"Balanced Accuracy: {balanced_accuracy_mod}\")"
   ]
  },
  {
   "cell_type": "markdown",
   "metadata": {},
   "source": [
    "**Si se hubiera clasificado bien el único registro de agua ('A') que hay en el dataset de testeo se alcanzaría una mejora de más del 16 % en la métrica de precisión balanceada, así, queda en evidencia la necesidad de acertar las predicciones de las clases minoritarias**. Tal vez, en dichas categorías no sería tan grave predecir falsos positivos (si provienen de las clases mayoritarias) mientras todos los verdaderos positivos sean identificados.\n",
    "\n",
    "En el trabajo se podría haber probado un submuestreo de los registros de clases mayoritarias para enfocarse en la calidad de las predicciones de las categorías con menos observaciones en la base de entrenamiento o, por otro lado, sobre estas últimas intentar generar más datos a partir de nuevos 'puntos' ubicados a distancias mayores de 60 m.\n",
    "\n",
    "A lo mejor la estrategia de hacer un modelo diferente por cada satélite (3 en total)  hubiese permitido que los parámetros de cada modelo de Gradient Boosting se ajustaran mejor a determinadas clases y mediante un ensamble obtener un resultado más preciso.\n",
    "\n",
    "Por supuesto, se podrían haber utilizado datos de otros satélites o diferentes colecciones, así como otros tipos de modelos supervisados o no supervisados.\n",
    "\n",
    "**Finalmente, el modelo propuesto se posicionó dentro de los 10 de mayor rendimiento de clasificación, pero queda claro que el margen de mejora para resolver el desafío planteado es amplio**."
   ]
  },
  {
   "cell_type": "markdown",
   "metadata": {},
   "source": [
    "## Referencias"
   ]
  },
  {
   "cell_type": "markdown",
   "metadata": {},
   "source": [
    "- Google Earth Engine platform: https://earthengine.google.com/\n",
    "- Shap values library: https://github.com/slundberg/shap\n",
    "- Integrating Earth Engine with Tensorflow 2 - U-NET: https://csaybar.github.io/blog/2019/05/30/eetf/\n",
    "- Google Earth Engine python API examples: https://github.com/renelikestacos/Google-Earth-Engine-Python-Examples\n",
    "- Land cover classification with eo-learn: https://medium.com/sentinel-hub/land-cover-classification-with-eo-learn-part-1-2471e8098195\n",
    "- Indicadores ambientales, QuickIndex: https://github.com/sacridini/QuickIndex\n",
    "- DesafiosAgtech, Webinar R, Yanina Bellini Saibene: https://www.youtube.com/watch?v=JADzBIypdyY&feature=youtu.be\n",
    "- DesafiosAgtech, Webinar Python, Alfredo Campos: https://www.youtube.com/watch?v=Nz01C2VT1MI\n",
    "- DesafiosAgtech, Webinar GEE, Santiago Banchero: https://www.youtube.com/watch?v=0owpGWnoaZs&feature=youtu.be\n",
    "- DesafiosAgtech, Webinar AWS, Maximiliano Paz y Nicolás Larrandart: https://www.youtube.com/watch?v=ybEvraFKR5Y&t=245s\n",
    "- DesafiosAgtech, Webinar ML, Pablo Roccatagliata: https://www.youtube.com/watch?v=76gPtbmcTrA&amp;feature=youtu.be"
   ]
  }
 ],
 "metadata": {
  "colab": {
   "collapsed_sections": [],
   "name": "Agtech2020Lgbm.ipynb",
   "provenance": []
  },
  "kernelspec": {
   "name": "python383jvsc74a57bd0f13c05f680c7c9b42fa4374951cecbfa749344cfc1d2d5f169a7315db23a4945",
   "display_name": "Python 3.8.3 64-bit ('base': conda)"
  },
  "language_info": {
   "codemirror_mode": {
    "name": "ipython",
    "version": 3
   },
   "file_extension": ".py",
   "mimetype": "text/x-python",
   "name": "python",
   "nbconvert_exporter": "python",
   "pygments_lexer": "ipython3",
   "version": "3.8.3"
  }
 },
 "nbformat": 4,
 "nbformat_minor": 4
}